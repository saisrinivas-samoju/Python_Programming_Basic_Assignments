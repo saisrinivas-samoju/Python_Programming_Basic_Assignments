{
 "cells": [
  {
   "cell_type": "markdown",
   "metadata": {},
   "source": [
    "## 1.\tWrite a Python Program to Add Two Matrices?"
   ]
  },
  {
   "cell_type": "code",
   "execution_count": 1,
   "metadata": {},
   "outputs": [
    {
     "data": {
      "text/plain": [
       "[[3, 6, 9], [9, 14, 21], [15, 24, 45], [21, 38, 105]]"
      ]
     },
     "execution_count": 1,
     "metadata": {},
     "output_type": "execute_result"
    }
   ],
   "source": [
    "def add_matrix(A, B):\n",
    "    return [[A[i][j]+B[i][j] for j in range(len(A[0]))] for i in range(len(A))]\n",
    "\n",
    "A = [[1,2,3],\n",
    "     [1,4,9],\n",
    "     [1,8,27],\n",
    "     [1,16,81]]\n",
    "B = [[2,4,6],\n",
    "     [8,10,12],\n",
    "     [14,16,18],\n",
    "     [20,22,24]]\n",
    "\n",
    "add_matrix(A, B)"
   ]
  },
  {
   "cell_type": "markdown",
   "metadata": {},
   "source": [
    "## 2.\tWrite a Python Program to Multiply Two Matrices?"
   ]
  },
  {
   "cell_type": "code",
   "execution_count": 2,
   "metadata": {},
   "outputs": [
    {
     "data": {
      "text/plain": [
       "[[140, 160, 180], [480, 540, 600], [1724, 1924, 2124]]"
      ]
     },
     "execution_count": 2,
     "metadata": {},
     "output_type": "execute_result"
    }
   ],
   "source": [
    "def product_matrix(A, B):\n",
    "    output= [[0 for j in range(len(B[0]))] for i in range(len(A))]\n",
    "    \n",
    "    for i in range(len(A)):\n",
    "        for j in range(len(B[0])):\n",
    "            for k in range(len(B)):\n",
    "                output[i][j]+=A[i][k]*B[k][j]\n",
    "    return output\n",
    "                \n",
    "\n",
    "A = [[1,2,3,4],\n",
    "     [1,4,9,16],\n",
    "     [1,8,27,64]]\n",
    "B = [[2,4,6],\n",
    "     [8,10,12],\n",
    "     [14,16,18],\n",
    "     [20,22,24]]\n",
    "\n",
    "product_matrix(A, B)"
   ]
  },
  {
   "cell_type": "markdown",
   "metadata": {},
   "source": [
    "## 3.\tWrite a Python Program to Transpose a Matrix?"
   ]
  },
  {
   "cell_type": "code",
   "execution_count": 3,
   "metadata": {},
   "outputs": [
    {
     "data": {
      "text/plain": [
       "[[1, 1, 1], [2, 4, 8], [3, 9, 27], [4, 16, 64]]"
      ]
     },
     "execution_count": 3,
     "metadata": {},
     "output_type": "execute_result"
    }
   ],
   "source": [
    "def transpose(A):\n",
    "    return [[A[j][i] for j in range(len(A))] for i in range(len(A[0]))]\n",
    "\n",
    "transpose([[1,2,3,4],\n",
    "           [1,4,9,16],\n",
    "           [1,8,27,64]])"
   ]
  },
  {
   "cell_type": "markdown",
   "metadata": {},
   "source": [
    "## 4.\tWrite a Python Program to Sort Words in Alphabetic Order?"
   ]
  },
  {
   "cell_type": "code",
   "execution_count": 4,
   "metadata": {},
   "outputs": [
    {
     "name": "stdout",
     "output_type": "stream",
     "text": [
      "The words after sorting them in alphabetical order...\n",
      "a\n",
      "brown\n",
      "dog\n",
      "fox\n",
      "jumps\n",
      "lazy\n",
      "over\n",
      "quick\n",
      "the\n",
      "\n",
      "The string after combining the words in alphabetical order:\n",
      "'A brown dog fox jumps lazy over quick the'\n"
     ]
    }
   ],
   "source": [
    "string = 'A quick brown fox jumps over the lazy dog'\n",
    "\n",
    "words = [word.lower() for word in string.split()]\n",
    "words.sort()\n",
    "print(\"The words after sorting them in alphabetical order...\")\n",
    "for word in words:\n",
    "    print(word)\n",
    "print(f\"\\nThe string after combining the words in alphabetical order:\\n{' '.join(words).capitalize()!r}\")"
   ]
  },
  {
   "cell_type": "markdown",
   "metadata": {},
   "source": [
    "## 5.\tWrite a Python Program to Remove Punctuation From a String?"
   ]
  },
  {
   "cell_type": "code",
   "execution_count": 5,
   "metadata": {},
   "outputs": [
    {
     "name": "stdout",
     "output_type": "stream",
     "text": [
      "Hello Mr Watson Glad to meet you\n"
     ]
    }
   ],
   "source": [
    "string='Hello Mr. Watson! Glad to meet you.'\n",
    "\n",
    "new_string = ''\n",
    "for char in string:\n",
    "    \n",
    "    if char.isalpha() or char.isspace() or char.isdigit():\n",
    "        new_string+=char\n",
    "\n",
    "print(new_string)"
   ]
  }
 ],
 "metadata": {
  "kernelspec": {
   "display_name": "Python 3",
   "language": "python",
   "name": "python3"
  },
  "language_info": {
   "codemirror_mode": {
    "name": "ipython",
    "version": 3
   },
   "file_extension": ".py",
   "mimetype": "text/x-python",
   "name": "python",
   "nbconvert_exporter": "python",
   "pygments_lexer": "ipython3",
   "version": "3.8.5"
  }
 },
 "nbformat": 4,
 "nbformat_minor": 4
}
