{
 "cells": [
  {
   "cell_type": "markdown",
   "metadata": {},
   "source": [
    "## 1. Write a Python Program to Find the Factorial of a Number?"
   ]
  },
  {
   "cell_type": "code",
   "execution_count": 1,
   "metadata": {},
   "outputs": [
    {
     "name": "stdout",
     "output_type": "stream",
     "text": [
      "Enter a number to find it's factorial value: 6\n",
      "\n",
      "The factorial of 6 is 720\n"
     ]
    }
   ],
   "source": [
    "num = int(input(\"Enter a number to find it's factorial value: \"))\n",
    "\n",
    "n = 1\n",
    "for i in range(1, num+1):\n",
    "    n*=i\n",
    "\n",
    "print(f'\\nThe factorial of {num} is {n}')"
   ]
  },
  {
   "cell_type": "markdown",
   "metadata": {},
   "source": [
    "## 2. Write a Python Program to Display the multiplication Table?"
   ]
  },
  {
   "cell_type": "code",
   "execution_count": 2,
   "metadata": {},
   "outputs": [
    {
     "name": "stdout",
     "output_type": "stream",
     "text": [
      "Enter the number for which you want to find the multiplication Table: 5\n",
      "Enter the number till where you want to end the table: 12\n",
      " 5  x  1   =   5  \n",
      " 5  x  2   =  10  \n",
      " 5  x  3   =  15  \n",
      " 5  x  4   =  20  \n",
      " 5  x  5   =  25  \n",
      " 5  x  6   =  30  \n",
      " 5  x  7   =  35  \n",
      " 5  x  8   =  40  \n",
      " 5  x  9   =  45  \n",
      " 5  x  10  =  50  \n",
      " 5  x  11  =  55  \n",
      " 5  x  12  =  60  \n"
     ]
    }
   ],
   "source": [
    "n = int(input('Enter the number for which you want to find the multiplication Table: '))\n",
    "m = int(input('Enter the number till where you want to end the table: '))\n",
    "\n",
    "for i in range(1, m+1):\n",
    "    print(f\"{n:^3} x {i:^4} = {n*i:^5}\")"
   ]
  },
  {
   "cell_type": "markdown",
   "metadata": {},
   "source": [
    "## 3. Write a Python Program to Print the Fibonacci sequence?"
   ]
  },
  {
   "cell_type": "code",
   "execution_count": 3,
   "metadata": {},
   "outputs": [
    {
     "name": "stdout",
     "output_type": "stream",
     "text": [
      "Enter how many numbers in the Fibonacci series you want to see: 10\n",
      "\n",
      "The list of first 10 fibonacci numbers are: [0, 1, 1, 2, 3, 5, 8, 13, 21, 34]\n"
     ]
    }
   ],
   "source": [
    "num = int(input('Enter how many numbers in the Fibonacci series you want to see: '))\n",
    "\n",
    "f = [0,1,1]\n",
    "\n",
    "if 1<=num<=3:\n",
    "    print(f\"\\nThe list of first {num} fibonacci numbers are: {f[:num]}\")\n",
    "else:\n",
    "    for i in range(3, num):\n",
    "        f.append(f[-1]+f[-2])\n",
    "    print(f\"\\nThe list of first {num} fibonacci numbers are: {f}\")"
   ]
  },
  {
   "cell_type": "markdown",
   "metadata": {},
   "source": [
    "## 4. Write a Python Program to Check Armstrong Number?"
   ]
  },
  {
   "cell_type": "code",
   "execution_count": 4,
   "metadata": {},
   "outputs": [
    {
     "name": "stdout",
     "output_type": "stream",
     "text": [
      "Enter a number to check if it is an armstrong number or not: 371\n",
      "\n",
      "371 is an armstrong number of order 3\n"
     ]
    }
   ],
   "source": [
    "num = input('Enter a number to check if it is an armstrong number or not: ')\n",
    "\n",
    "lst=[]\n",
    "total = 0\n",
    "\n",
    "for char in num:\n",
    "    lst.append(int(char))\n",
    "\n",
    "for i in lst:\n",
    "    total +=i**len(num)\n",
    "\n",
    "if total == int(num):\n",
    "    print(f'\\n{num} is an armstrong number of order {len(num)}')\n",
    "else:\n",
    "    print(f\"\\n{num} is not an armstrong number\")"
   ]
  },
  {
   "cell_type": "markdown",
   "metadata": {},
   "source": [
    "## 5. Write a Python Program to Find Armstrong Number in an Interval?"
   ]
  },
  {
   "cell_type": "code",
   "execution_count": 5,
   "metadata": {},
   "outputs": [
    {
     "name": "stdout",
     "output_type": "stream",
     "text": [
      "Enter the lower limit of the interval: 300\n",
      "Enter the upper limit of the interval: 400\n",
      "\n",
      "The following are the armstrong numbers in the given interval:\n",
      "370\n",
      "371\n"
     ]
    }
   ],
   "source": [
    "def arm(num):\n",
    "    total=0\n",
    "    num = str(num)\n",
    "    for i in num:\n",
    "        total += int(i)**len(num)\n",
    "    \n",
    "    return int(num)==total\n",
    "\n",
    "i = int(input('Enter the lower limit of the interval: '))\n",
    "j = int(input('Enter the upper limit of the interval: '))\n",
    "\n",
    "lst = [x for x in range(i, j)]\n",
    "arm_list = list(filter(arm, lst))\n",
    "\n",
    "if len(arm_list)>0:\n",
    "    print('\\nThe following are the armstrong numbers in the given interval:')\n",
    "    for n in arm_list:\n",
    "        print(n)\n",
    "else:\n",
    "    print(\"\\nThere are no armstrong numbers in the given interval\")"
   ]
  },
  {
   "cell_type": "markdown",
   "metadata": {},
   "source": [
    "## 6. Write a Python Program to Find the Sum of Natural Numbers?"
   ]
  },
  {
   "cell_type": "code",
   "execution_count": 6,
   "metadata": {},
   "outputs": [
    {
     "name": "stdout",
     "output_type": "stream",
     "text": [
      "Enter the number till where you want to find the sum: 17\n",
      "\n",
      "The sum of first 17 natural numbers is: 153.0\n"
     ]
    }
   ],
   "source": [
    "num = int(input('Enter the number till where you want to find the sum: '))\n",
    "\n",
    "print(f\"\\nThe sum of first {num} natural numbers is: {(num*(num+1))/2}\")"
   ]
  }
 ],
 "metadata": {
  "kernelspec": {
   "display_name": "Python 3",
   "language": "python",
   "name": "python3"
  },
  "language_info": {
   "codemirror_mode": {
    "name": "ipython",
    "version": 3
   },
   "file_extension": ".py",
   "mimetype": "text/x-python",
   "name": "python",
   "nbconvert_exporter": "python",
   "pygments_lexer": "ipython3",
   "version": "3.8.5"
  }
 },
 "nbformat": 4,
 "nbformat_minor": 4
}
