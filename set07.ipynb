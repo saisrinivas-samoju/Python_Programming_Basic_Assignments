{
 "cells": [
  {
   "cell_type": "markdown",
   "metadata": {},
   "source": [
    "## 1. Write a Python Program to find sum of array?"
   ]
  },
  {
   "cell_type": "code",
   "execution_count": 1,
   "metadata": {},
   "outputs": [
    {
     "data": {
      "text/plain": [
       "21"
      ]
     },
     "execution_count": 1,
     "metadata": {},
     "output_type": "execute_result"
    }
   ],
   "source": [
    "def arr_sum(arr):\n",
    "    sum = 0\n",
    "    for i in arr:\n",
    "        sum+=i\n",
    "    return sum\n",
    "\n",
    "\n",
    "lst = [1,2,3,4,5,6]\n",
    "\n",
    "arr_sum(lst)"
   ]
  },
  {
   "cell_type": "markdown",
   "metadata": {},
   "source": [
    "## 2. Write a Python Program to find largest element in an array?"
   ]
  },
  {
   "cell_type": "code",
   "execution_count": 2,
   "metadata": {},
   "outputs": [
    {
     "data": {
      "text/plain": [
       "106"
      ]
     },
     "execution_count": 2,
     "metadata": {},
     "output_type": "execute_result"
    }
   ],
   "source": [
    "def large(arr):\n",
    "    m=0\n",
    "    for i in arr:\n",
    "        if i>m:\n",
    "            m=i\n",
    "    return m\n",
    "\n",
    "#or\n",
    "\n",
    "#def large(arr): return max(arr)\n",
    "\n",
    "large([35,42,6,2,106,89])"
   ]
  },
  {
   "cell_type": "markdown",
   "metadata": {},
   "source": [
    "## 3. Write a Python Program for array rotation?"
   ]
  },
  {
   "cell_type": "code",
   "execution_count": 3,
   "metadata": {},
   "outputs": [
    {
     "data": {
      "text/plain": [
       "[4, 5, 6, 1, 2, 3]"
      ]
     },
     "execution_count": 3,
     "metadata": {},
     "output_type": "execute_result"
    }
   ],
   "source": [
    "def rotate(arr, n):\n",
    "    \"\"\"\n",
    "    arr is the array, n is the number of elements about which the array rotates\n",
    "    \"\"\"   \n",
    "    for i in range(n):\n",
    "        arr.append(arr.pop(0))\n",
    "    return arr\n",
    "\n",
    "rotate([1,2,3,4,5,6], 3)"
   ]
  },
  {
   "cell_type": "markdown",
   "metadata": {},
   "source": [
    "## 4. Write a Python Program to Split the array and add the first part to the end?"
   ]
  },
  {
   "cell_type": "code",
   "execution_count": 4,
   "metadata": {},
   "outputs": [
    {
     "data": {
      "text/plain": [
       "[15, 18, 21, 3, 6, 9, 12]"
      ]
     },
     "execution_count": 4,
     "metadata": {},
     "output_type": "execute_result"
    }
   ],
   "source": [
    "def split(arr, n):\n",
    "    \"\"\"\n",
    "    arr is the array, n is the index position where the array splits\n",
    "    \"\"\" \n",
    "    temp=[]\n",
    "    for i in arr[n:]:\n",
    "        temp.append(i)\n",
    "    for i in arr[:n]:\n",
    "        temp.append(i)\n",
    "    \n",
    "    return temp\n",
    "\n",
    "split([3,6,9,12,15,18,21], 4)"
   ]
  },
  {
   "cell_type": "markdown",
   "metadata": {},
   "source": [
    "## 5. Write a Python Program to check if given array is Monotonic?"
   ]
  },
  {
   "cell_type": "code",
   "execution_count": 5,
   "metadata": {},
   "outputs": [
    {
     "name": "stdout",
     "output_type": "stream",
     "text": [
      "The given array is not monotonic!\n",
      "The given array is monotonic!\n"
     ]
    }
   ],
   "source": [
    "def check_mono(arr):\n",
    "    \n",
    "    if all(arr[i] <= arr[i + 1] for i in range(len(arr) - 1)):\n",
    "        print('The given array is monotonic!')\n",
    "    elif all(arr[i] >= arr[i + 1] for i in range(len(arr) - 1)):\n",
    "        print('The given array is monotonic!')\n",
    "    else:\n",
    "        print('The given array is not monotonic!')\n",
    "        \n",
    "        \n",
    "check_mono([5,4,2,3,1])\n",
    "check_mono([85,63,57,28,3])"
   ]
  }
 ],
 "metadata": {
  "kernelspec": {
   "display_name": "Python 3",
   "language": "python",
   "name": "python3"
  },
  "language_info": {
   "codemirror_mode": {
    "name": "ipython",
    "version": 3
   },
   "file_extension": ".py",
   "mimetype": "text/x-python",
   "name": "python",
   "nbconvert_exporter": "python",
   "pygments_lexer": "ipython3",
   "version": "3.8.5"
  }
 },
 "nbformat": 4,
 "nbformat_minor": 4
}
