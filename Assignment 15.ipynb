{
 "cells": [
  {
   "cell_type": "markdown",
   "metadata": {},
   "source": [
    "## 1. Write a program to get the numbers which are divisible by both 5 and 7 in the given interval."
   ]
  },
  {
   "cell_type": "markdown",
   "metadata": {},
   "source": [
    "Question 1:\n",
    "Please write a program using generator to print the numbers which can be divisible by 5 and 7 between 0 and n in comma separated form while n is input by console.\n",
    "Example:\n",
    "If the following n is given as input to the program:\n",
    "100\n",
    "Then, the output of the program should be:\n",
    "0,35,70"
   ]
  },
  {
   "cell_type": "code",
   "execution_count": 1,
   "metadata": {},
   "outputs": [
    {
     "name": "stdout",
     "output_type": "stream",
     "text": [
      "Enter the number to find the numbers which are divisible by both 5 and 7 below it: 100\n",
      "The following are the numbers between 0 to 100, which are divisible by both 5 and 7...\n",
      "0,35,70\n"
     ]
    }
   ],
   "source": [
    "def div(num):\n",
    "    for i in range(num):\n",
    "        if i%(5*7)==0:\n",
    "            yield i\n",
    "\n",
    "num = int(input('Enter the number to find the numbers which are divisible by both 5 and 7 below it: '))\n",
    "\n",
    "print(f'The following are the numbers between 0 to {num}, which are divisible by both 5 and 7...')\n",
    "\n",
    "res=[]\n",
    "\n",
    "for i in div(num):\n",
    "    res.append(str(i))\n",
    "print(','.join(res))"
   ]
  },
  {
   "cell_type": "markdown",
   "metadata": {},
   "source": [
    "## 2. Print all the even numbers below the given number"
   ]
  },
  {
   "cell_type": "markdown",
   "metadata": {},
   "source": [
    "Question 2:\n",
    "Please write a program using generator to print the even numbers between 0 and n in comma separated form while n is input by console.\n",
    "Example:\n",
    "If the following n is given as input to the program:\n",
    "10\n",
    "Then, the output of the program should be:\n",
    "0,2,4,6,8,10"
   ]
  },
  {
   "cell_type": "code",
   "execution_count": 2,
   "metadata": {},
   "outputs": [
    {
     "name": "stdout",
     "output_type": "stream",
     "text": [
      "Please enter the upper limit: 10\n",
      "The following are the even numbers between 0 to 10(including)...\n",
      "0,2,4,6,8,10\n"
     ]
    }
   ],
   "source": [
    "num = int(input(\"Please enter the upper limit: \"))\n",
    "\n",
    "res = []\n",
    "\n",
    "for i in range(num+1):\n",
    "    if i%2==0:\n",
    "        res.append(str(i))\n",
    "\n",
    "print(f'The following are the even numbers between 0 to {num}(including)...')\n",
    "print(','.join(res))"
   ]
  },
  {
   "cell_type": "markdown",
   "metadata": {},
   "source": [
    "## 3. Write Fibonacci Sequence using list comprehension."
   ]
  },
  {
   "cell_type": "markdown",
   "metadata": {},
   "source": [
    "Question 3:\n",
    "The Fibonacci Sequence is computed based on the following formula:\n",
    "f(n)=0 if n=0\n",
    "f(n)=1 if n=1\n",
    "f(n)=f(n-1)+f(n-2) if n>1\n",
    "Please write a program using list comprehension to print the Fibonacci Sequence in comma separated form with a given n input by console.\n",
    "Example:\n",
    "If the following n is given as input to the program:\n",
    "7\n",
    "\n",
    "Then, the output of the program should be:\n",
    "0,1,1,2,3,5,8,13"
   ]
  },
  {
   "cell_type": "code",
   "execution_count": 3,
   "metadata": {},
   "outputs": [
    {
     "name": "stdout",
     "output_type": "stream",
     "text": [
      "Enter the number of terms you want to know from the Fibonacci Series: 7\n",
      "0,1,1,2,3,5,8,13\n"
     ]
    }
   ],
   "source": [
    "def fibo(num):\n",
    "    if num==0:\n",
    "        return 0\n",
    "    elif num == 1:\n",
    "        return 1\n",
    "    elif num>1:\n",
    "        return fibo(num-1)+fibo(num-2)\n",
    "\n",
    "num = int(input('Enter the number of terms you want to know from the Fibonacci Series: '))\n",
    "lst= [str(fibo(x)) for x in range(num+1)] #Just to match the output show in the question, I have used num+1, instead of num.\n",
    "print(','.join(lst))"
   ]
  },
  {
   "cell_type": "markdown",
   "metadata": {},
   "source": [
    "## 4. Extract the username from the given email address."
   ]
  },
  {
   "cell_type": "markdown",
   "metadata": {},
   "source": [
    "Question 4:\n",
    "Assuming that we have some email addresses in the \"username@companyname.com\" format, please write program to print the user name of a given email address. Both user names and company names are composed of letters only.\n",
    "Example:\n",
    "If the following email address is given as input to the program:\n",
    "john@google.com\n",
    "Then, the output of the program should be:\n",
    "john"
   ]
  },
  {
   "cell_type": "code",
   "execution_count": 4,
   "metadata": {},
   "outputs": [
    {
     "name": "stdout",
     "output_type": "stream",
     "text": [
      "Enter any address to find the username: john@google.com\n",
      "john\n"
     ]
    }
   ],
   "source": [
    "email = input('Enter any address to find the username: ')\n",
    "print(email[:email.index('@')])"
   ]
  },
  {
   "cell_type": "markdown",
   "metadata": {},
   "source": [
    "## 5. Define Class Shape and it's Subclass Square acc. to the given requirements."
   ]
  },
  {
   "cell_type": "markdown",
   "metadata": {},
   "source": [
    "Question 5: \n",
    "Define a class named Shape and its subclass Square. The Square class has an init function which takes a length as argument. Both classes have a area function which can print the area of the shape where Shape's area is 0 by default."
   ]
  },
  {
   "cell_type": "code",
   "execution_count": 5,
   "metadata": {},
   "outputs": [
    {
     "name": "stdout",
     "output_type": "stream",
     "text": [
      "Shape Created\n",
      "Square Created with length: 8 units\n"
     ]
    },
    {
     "data": {
      "text/plain": [
       "'64 sq.units'"
      ]
     },
     "execution_count": 5,
     "metadata": {},
     "output_type": "execute_result"
    }
   ],
   "source": [
    "class Shape:\n",
    "    #Since it is not mentioned in the question that Shape class has an init function to take length argument\n",
    "    def __init__(self):\n",
    "        print('Shape Created')\n",
    "    def area(self):\n",
    "        #Since it is mentioned in the question that the shape's area is zero by default.\n",
    "        #And, we don't know the number of sides and length of the shape, we don't have any formula to use.\n",
    "        return 0\n",
    "\n",
    "class Square(Shape):\n",
    "    #We are using inheritance here. But, not extracting anything exactly. Only because of the way question is asked.\n",
    "    def __init__(self, length=0):\n",
    "        Shape.__init__(self)\n",
    "        self.length = length\n",
    "        print(f\"Square Created with length: {self.length} units\")\n",
    "    def area(self):\n",
    "        return f\"{self.length**2} sq.units\"\n",
    "\n",
    "s = Square(8)\n",
    "s.area()"
   ]
  }
 ],
 "metadata": {
  "kernelspec": {
   "display_name": "Python 3",
   "language": "python",
   "name": "python3"
  },
  "language_info": {
   "codemirror_mode": {
    "name": "ipython",
    "version": 3
   },
   "file_extension": ".py",
   "mimetype": "text/x-python",
   "name": "python",
   "nbconvert_exporter": "python",
   "pygments_lexer": "ipython3",
   "version": "3.8.5"
  }
 },
 "nbformat": 4,
 "nbformat_minor": 4
}
