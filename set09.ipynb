{
 "cells": [
  {
   "cell_type": "markdown",
   "metadata": {},
   "source": [
    "## 1. Write a Python program to check if the given number is a Disarium Number?"
   ]
  },
  {
   "cell_type": "code",
   "execution_count": 1,
   "metadata": {},
   "outputs": [
    {
     "name": "stdout",
     "output_type": "stream",
     "text": [
      "The 135 is a Disarium Number.\n"
     ]
    }
   ],
   "source": [
    "#Disarium Number:\n",
    "    #If sum of its digits powered with their respective positions is equal to the number itself.\n",
    "\n",
    "def disar(num):\n",
    "    n=[]\n",
    "    add = 0\n",
    "    for i in str(num):\n",
    "        n.append(int(i))\n",
    "    for j in range(1, len(n)+1):\n",
    "        add+=((n[j-1])**j)\n",
    "    \n",
    "    if add== num:\n",
    "        print(f'The {num} is a Disarium Number.')\n",
    "    else:\n",
    "        print(f\"The {num} is not a Disarium Number.\")\n",
    "\n",
    "\n",
    "disar(135)"
   ]
  },
  {
   "cell_type": "markdown",
   "metadata": {},
   "source": [
    "## 2. Write a Python program to print all disarium numbers between 1 to 100?"
   ]
  },
  {
   "cell_type": "code",
   "execution_count": 2,
   "metadata": {},
   "outputs": [
    {
     "name": "stdout",
     "output_type": "stream",
     "text": [
      "The following are the list of Disarium numbers in between 1 to 100...\n",
      "1\n",
      "2\n",
      "3\n",
      "4\n",
      "5\n",
      "6\n",
      "7\n",
      "8\n",
      "9\n",
      "89\n"
     ]
    }
   ],
   "source": [
    "def disar(num):\n",
    "    n=[]\n",
    "    add = 0\n",
    "    for i in str(num):\n",
    "        n.append(int(i))\n",
    "    for j in range(1, len(n)+1):\n",
    "        add+=((n[j-1])**j)\n",
    "    \n",
    "    if add== num:\n",
    "        return True\n",
    "    else:\n",
    "        return False\n",
    "\n",
    "print('The following are the list of Disarium numbers in between 1 to 100...')\n",
    "for i in list(filter(disar, range(1,101))):\n",
    "    print(i)"
   ]
  },
  {
   "cell_type": "markdown",
   "metadata": {},
   "source": [
    "## 3. Write a Python program to check if the given number is Happy Number?"
   ]
  },
  {
   "cell_type": "code",
   "execution_count": 3,
   "metadata": {},
   "outputs": [
    {
     "name": "stdout",
     "output_type": "stream",
     "text": [
      "The given number is a happy number.\n"
     ]
    }
   ],
   "source": [
    "# A happy number is a number which eventually reaches 1 when replaced by the sum of the square of each digit.\n",
    "\n",
    "def happy(num):\n",
    "    add=0\n",
    "    for i in str(num):\n",
    "        add+=(int(i))**2\n",
    "    if len(str(add))==1:\n",
    "        if add==1:\n",
    "            print(f'The given number is a happy number.')\n",
    "        else:\n",
    "            print(f'The given is not a happy number.')\n",
    "    else:\n",
    "        return happy(add)\n",
    "\n",
    "happy(130)"
   ]
  },
  {
   "cell_type": "markdown",
   "metadata": {},
   "source": [
    "## 4. Write a Python program to print all happy numbers between 1 and 100?"
   ]
  },
  {
   "cell_type": "code",
   "execution_count": 4,
   "metadata": {},
   "outputs": [
    {
     "name": "stdout",
     "output_type": "stream",
     "text": [
      "The following the are the happy numbers in between 1 to 100...\n",
      "1\n",
      "7\n",
      "10\n",
      "13\n",
      "19\n",
      "23\n",
      "28\n",
      "31\n",
      "32\n",
      "44\n",
      "49\n",
      "68\n",
      "70\n",
      "79\n",
      "82\n",
      "86\n",
      "91\n",
      "94\n",
      "97\n",
      "100\n"
     ]
    }
   ],
   "source": [
    "def happy(num):\n",
    "    add=0\n",
    "    for i in str(num):\n",
    "        add+=(int(i))**2\n",
    "    if len(str(add))==1:\n",
    "        if add==1:\n",
    "            return True\n",
    "        else:\n",
    "            return False\n",
    "    else:\n",
    "        return happy(add)\n",
    "\n",
    "print(\"The following the are the happy numbers in between 1 to 100...\")  \n",
    "for i in list(filter(happy, range(1,101))):\n",
    "    print(i)"
   ]
  },
  {
   "cell_type": "markdown",
   "metadata": {},
   "source": [
    "## 5. Write a Python program to determine whether the given number is a Harshad Number?"
   ]
  },
  {
   "cell_type": "code",
   "execution_count": 5,
   "metadata": {},
   "outputs": [
    {
     "name": "stdout",
     "output_type": "stream",
     "text": [
      "Enter a number to check whether it is a Harshad Number: 6804\n",
      "6804 is a Harshad Number\n"
     ]
    }
   ],
   "source": [
    "# A harshad number in a given number base is an integer that is divisible by the sum of its digits when written in that base.\n",
    "\n",
    "def harshad(num):\n",
    "    \n",
    "    add=0\n",
    "    for i in str(num):\n",
    "        add+=int(i)\n",
    "    if int(num/add)==num/add:\n",
    "        print(f'{num} is a Harshad Number')\n",
    "    else:\n",
    "        print(f'{num} is not a Harshad Number')\n",
    "\n",
    "num = int(input(\"Enter a number to check whether it is a Harshad Number: \"))\n",
    "harshad(num)"
   ]
  },
  {
   "cell_type": "markdown",
   "metadata": {},
   "source": [
    "## 6. Write a Python program to print all pronic numbers between 1 and 100?"
   ]
  },
  {
   "cell_type": "code",
   "execution_count": 6,
   "metadata": {},
   "outputs": [
    {
     "name": "stdout",
     "output_type": "stream",
     "text": [
      "Enter a number to check if it is a pronic number or not: 30\n",
      "30 is a pronic number\n"
     ]
    },
    {
     "data": {
      "text/plain": [
       "True"
      ]
     },
     "execution_count": 6,
     "metadata": {},
     "output_type": "execute_result"
    }
   ],
   "source": [
    "# The numbers that can be arranged to form a rectangle are called Pronic numbers.\n",
    "# Simply, the number should be a product of two consective numbers.\n",
    "\n",
    "def pronic(num):\n",
    "    \n",
    "    for i in range(1, int(num**0.5)+1):\n",
    "        if num== i * (i+1):\n",
    "            print(f'{num} is a pronic number')\n",
    "            return True\n",
    "        i+=1\n",
    "    else:\n",
    "        print(f'{num} is not a pronic number')\n",
    "        return False\n",
    "    \n",
    "num = int(input(\"Enter a number to check if it is a pronic number or not: \"))\n",
    "pronic(num)"
   ]
  }
 ],
 "metadata": {
  "kernelspec": {
   "display_name": "Python 3",
   "language": "python",
   "name": "python3"
  },
  "language_info": {
   "codemirror_mode": {
    "name": "ipython",
    "version": 3
   },
   "file_extension": ".py",
   "mimetype": "text/x-python",
   "name": "python",
   "nbconvert_exporter": "python",
   "pygments_lexer": "ipython3",
   "version": "3.8.5"
  }
 },
 "nbformat": 4,
 "nbformat_minor": 4
}
