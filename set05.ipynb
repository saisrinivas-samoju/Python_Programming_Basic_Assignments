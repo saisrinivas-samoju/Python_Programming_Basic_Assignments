{
 "cells": [
  {
   "cell_type": "markdown",
   "metadata": {},
   "source": [
    "## 1. Write a Python Program to Find LCM?"
   ]
  },
  {
   "cell_type": "code",
   "execution_count": 1,
   "metadata": {},
   "outputs": [
    {
     "name": "stdout",
     "output_type": "stream",
     "text": [
      "To find the LCM...\n",
      "Enter the first number: 24\n",
      "Enter the second number: 44\n",
      "\n",
      "The LCM of the two number 24 and 44 is 264\n"
     ]
    }
   ],
   "source": [
    "print('To find the LCM...')\n",
    "a = int(input('Enter the first number: '))\n",
    "b = int(input('Enter the second number: '))\n",
    "\n",
    "mx = max(a, b)\n",
    "\n",
    "while True:\n",
    "    if mx%a==0 and mx%b==0:\n",
    "        print(f'\\nThe LCM of the two number {a} and {b} is {mx}')\n",
    "        break\n",
    "    mx+=1"
   ]
  },
  {
   "cell_type": "markdown",
   "metadata": {},
   "source": [
    "## 2. Write a Python Program to Find HCF?"
   ]
  },
  {
   "cell_type": "code",
   "execution_count": 2,
   "metadata": {},
   "outputs": [
    {
     "name": "stdout",
     "output_type": "stream",
     "text": [
      "To find the HCF...\n",
      "Enter the first number: 63\n",
      "Enter the second number: 14\n",
      "The HCF of the two numbers 63 and 14 is 7\n"
     ]
    }
   ],
   "source": [
    "print('To find the HCF...')\n",
    "a = int(input('Enter the first number: '))\n",
    "b = int(input('Enter the second number: '))\n",
    "p=a\n",
    "q=b\n",
    "while a:\n",
    "    a, b= b%a, a\n",
    "print(f'The HCF of the two numbers {p} and {q} is {b}')"
   ]
  },
  {
   "cell_type": "markdown",
   "metadata": {},
   "source": [
    "## 3. Write a Python Program to Convert Decimal to Binary, Octal and Hexadecimal?"
   ]
  },
  {
   "cell_type": "code",
   "execution_count": 3,
   "metadata": {},
   "outputs": [
    {
     "name": "stdout",
     "output_type": "stream",
     "text": [
      "To know the binary, octal, and hexadecimal numbers of the decimal number of your choice...\n",
      "Enter the number: 52\n",
      "Binary number: 0b110100\n",
      "Octal number: 0o64\n",
      "Hexadecimal number: 0x34\n"
     ]
    }
   ],
   "source": [
    "print('To know the binary, octal, and hexadecimal numbers of the decimal number of your choice...')\n",
    "n = int(float(input(\"Enter the number: \")))\n",
    "print(f\"Binary number: {bin(n)}\")\n",
    "print(f\"Octal number: {oct(n)}\")\n",
    "print(f\"Hexadecimal number: {hex(n)}\")"
   ]
  },
  {
   "cell_type": "markdown",
   "metadata": {},
   "source": [
    "## 4. Write a Python Program To Find ASCII value of a character?"
   ]
  },
  {
   "cell_type": "code",
   "execution_count": 4,
   "metadata": {},
   "outputs": [
    {
     "name": "stdout",
     "output_type": "stream",
     "text": [
      "Enter a character to find it's ASCII value: Hello\n",
      "Enter a character to find it's ASCII value: H\n",
      "\n",
      "The ASCII value of H is 72\n"
     ]
    }
   ],
   "source": [
    "a = 'wrong'\n",
    "while True:\n",
    "    if len(a)!=1:\n",
    "        a = input(\"Enter a character to find it's ASCII value: \")\n",
    "        continue\n",
    "    else:\n",
    "        print(f\"\\nThe ASCII value of {a} is {ord(a)}\")\n",
    "        break\n",
    "    "
   ]
  },
  {
   "cell_type": "markdown",
   "metadata": {},
   "source": [
    "## 5. Write a Python Program to Make a Simple Calculator with 4 basic mathematical operations?"
   ]
  },
  {
   "cell_type": "code",
   "execution_count": 5,
   "metadata": {},
   "outputs": [
    {
     "name": "stdout",
     "output_type": "stream",
     "text": [
      "****CALCULATOR****\n",
      "1. Addition\n",
      "2. Subtration\n",
      "3. Multiplication\n",
      "4. Division\n",
      "\n",
      "Enter the corresponding number to choose the mathematical operation you want to perform: 4\n",
      "Enter the numerator: 3\n",
      "Enter the denominator: 2\n",
      "3 ÷ 2 = 1.5\n"
     ]
    }
   ],
   "source": [
    "print('****CALCULATOR****')\n",
    "print(\"1. Addition\\n2. Subtration\\n3. Multiplication\\n4. Division\")\n",
    "x = input('\\nEnter the corresponding number to choose the mathematical operation you want to perform: ')\n",
    "if x not in ['1', '2', '3', '4']:\n",
    "    print('\\nInvalid input! Please try again')\n",
    "else:\n",
    "    if x=='1':\n",
    "        a = int(input('Enter the first number: '))\n",
    "        b = int(input('Enter the second number: '))\n",
    "        print(f\"{a} + {b} = {a+b}\")\n",
    "    elif x=='2':\n",
    "        a = int(input('Enter the first number: '))\n",
    "        b = int(input('Enter the second number: '))\n",
    "        print(f\"{a} - {b} = {a-b}\")\n",
    "    elif x=='3':\n",
    "        a = int(input('Enter the first number: '))\n",
    "        b = int(input('Enter the second number: '))\n",
    "        print(f\"{a} x {b} = {a*b}\")\n",
    "    elif x=='4':\n",
    "        a = int(input('Enter the numerator: '))\n",
    "        b = int(input('Enter the denominator: '))\n",
    "        print(f\"{a} ÷ {b} = {a/b}\")"
   ]
  }
 ],
 "metadata": {
  "kernelspec": {
   "display_name": "Python 3",
   "language": "python",
   "name": "python3"
  },
  "language_info": {
   "codemirror_mode": {
    "name": "ipython",
    "version": 3
   },
   "file_extension": ".py",
   "mimetype": "text/x-python",
   "name": "python",
   "nbconvert_exporter": "python",
   "pygments_lexer": "ipython3",
   "version": "3.8.5"
  }
 },
 "nbformat": 4,
 "nbformat_minor": 4
}
