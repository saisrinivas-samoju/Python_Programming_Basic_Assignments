{
 "cells": [
  {
   "cell_type": "markdown",
   "metadata": {},
   "source": [
    "## 1. Write a Python Program to Display Fibonacci Sequence Using Recursion?"
   ]
  },
  {
   "cell_type": "code",
   "execution_count": 1,
   "metadata": {},
   "outputs": [
    {
     "name": "stdout",
     "output_type": "stream",
     "text": [
      "Enter a number to find number the corresponding term in fibonacci series: 10\n",
      "The 10th term in fibonacci series is 34\n",
      "\n",
      "The series is as follows...\n",
      "Term: Value\n",
      " 1  :   0   \n",
      " 2  :   1   \n",
      " 3  :   1   \n",
      " 4  :   2   \n",
      " 5  :   3   \n",
      " 6  :   5   \n",
      " 7  :   8   \n",
      " 8  :   13  \n",
      " 9  :   21  \n",
      " 10 :   34  \n"
     ]
    }
   ],
   "source": [
    "def fibo(num):\n",
    "    if num==1:\n",
    "        return 0\n",
    "    elif num==2:\n",
    "        return 1\n",
    "    elif num>2:\n",
    "        return fibo(num-1)+fibo(num-2)\n",
    "\n",
    "num = int(input('Enter a number to find number the corresponding term in fibonacci series: '))\n",
    "print(f'The {num}th term in fibonacci series is {fibo(num)}')\n",
    "print(\"\\nThe series is as follows...\\nTerm: Value\")\n",
    "\n",
    "for i in range(1, num+1):\n",
    "    print(f\"{i:^4}: {fibo(i):^6}\")"
   ]
  },
  {
   "cell_type": "markdown",
   "metadata": {},
   "source": [
    "## 2. Write a Python Program to Find Factorial of Number Using Recursion?"
   ]
  },
  {
   "cell_type": "code",
   "execution_count": 2,
   "metadata": {
    "scrolled": true
   },
   "outputs": [
    {
     "name": "stdout",
     "output_type": "stream",
     "text": [
      "Enter a number to find it's factorial: 8\n",
      "The factorial of 8 is 40320\n"
     ]
    }
   ],
   "source": [
    "def facto(num):\n",
    "    if num==1:\n",
    "        return num\n",
    "    else:\n",
    "        return num*facto(num-1)\n",
    "\n",
    "num = int(input(\"Enter a number to find it's factorial: \"))\n",
    "\n",
    "print(f\"The factorial of {num} is {facto(num)}\")"
   ]
  },
  {
   "cell_type": "markdown",
   "metadata": {},
   "source": [
    "## 3. Write a Python Program to calculate your Body Mass Index?"
   ]
  },
  {
   "cell_type": "code",
   "execution_count": 3,
   "metadata": {},
   "outputs": [
    {
     "name": "stdout",
     "output_type": "stream",
     "text": [
      "Enter your weight in KGs: 68\n",
      "Enter your height in meters: 1.8\n",
      "Weight Status: NORMAL\n",
      "For your height, a normal weight range would be from 59.9 to 80.7 kilograms.\n",
      "Your BMI is 21.0\n"
     ]
    }
   ],
   "source": [
    "w= float(input(\"Enter your weight in KGs: \"))\n",
    "h = float(input(\"Enter your height in meters: \"))\n",
    "bmi=w/(h*h)\n",
    "if bmi<18.5:\n",
    "    print(f'Weight Status: UNDERWEIGHT\\nFor your height, a normal weight range would be from {18.5*h*h:4.1f} to {24.9*h*h:4.1f} kilograms.')\n",
    "    print(f\"Your BMI is {bmi:3.1f}\")\n",
    "elif 18.5<=bmi<=24.9:\n",
    "    print(f'Weight Status: NORMAL\\nFor your height, a normal weight range would be from {18.5*h*h:4.1f} to {24.9*h*h:4.1f} kilograms.')\n",
    "    print(f\"Your BMI is {bmi:3.1f}\")\n",
    "else:\n",
    "    print(f'Weight Status: OVERWEIGHT\\nFor your height, a normal weight range would be from {18.5*h*h:4.1f} to {24.9*h*h:4.1f} kilograms.')\n",
    "    print(f\"Your BMI is {bmi:3.1f}\")"
   ]
  },
  {
   "cell_type": "markdown",
   "metadata": {},
   "source": [
    "## 4. Write a Python Program to calculate the natural logarithm of any number?"
   ]
  },
  {
   "cell_type": "code",
   "execution_count": 4,
   "metadata": {},
   "outputs": [
    {
     "name": "stdout",
     "output_type": "stream",
     "text": [
      "Enter a number to find it's natural logarithm: 100\n",
      "\n",
      "The natural logarithm of 100 is  4.6052\n"
     ]
    }
   ],
   "source": [
    "import math\n",
    "n= int(input(\"Enter a number to find it's natural logarithm: \"))\n",
    "print(f\"\\nThe natural logarithm of {n} is {math.log(n): 5.4f}\")"
   ]
  },
  {
   "cell_type": "markdown",
   "metadata": {},
   "source": [
    "## 5. Write a Python Program for cube sum of first n natural numbers?"
   ]
  },
  {
   "cell_type": "code",
   "execution_count": 5,
   "metadata": {},
   "outputs": [
    {
     "name": "stdout",
     "output_type": "stream",
     "text": [
      "To know the sum of cubes until the number of your choice...\n",
      "Enter a natural number: 5\n",
      "\n",
      "The sum of cubes of first 5 natural numbers is 225.0\n"
     ]
    }
   ],
   "source": [
    "print(\"To know the sum of cubes until the number of your choice...\")\n",
    "n = int(input('Enter a natural number: '))\n",
    "print(f\"\\nThe sum of cubes of first {n} natural numbers is {(((n*(n+1))/2)**2)}\")"
   ]
  }
 ],
 "metadata": {
  "kernelspec": {
   "display_name": "Python 3",
   "language": "python",
   "name": "python3"
  },
  "language_info": {
   "codemirror_mode": {
    "name": "ipython",
    "version": 3
   },
   "file_extension": ".py",
   "mimetype": "text/x-python",
   "name": "python",
   "nbconvert_exporter": "python",
   "pygments_lexer": "ipython3",
   "version": "3.8.5"
  }
 },
 "nbformat": 4,
 "nbformat_minor": 4
}
