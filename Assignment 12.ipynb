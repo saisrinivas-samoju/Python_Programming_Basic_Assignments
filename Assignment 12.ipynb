{
 "cells": [
  {
   "cell_type": "markdown",
   "metadata": {},
   "source": [
    "## 1. Write a Python program to Extract Unique dictionary values?"
   ]
  },
  {
   "cell_type": "code",
   "execution_count": 1,
   "metadata": {},
   "outputs": [
    {
     "data": {
      "text/plain": [
       "[1, 2, 3]"
      ]
     },
     "execution_count": 1,
     "metadata": {},
     "output_type": "execute_result"
    }
   ],
   "source": [
    "uniq = lambda dct: list(set(dct.values()))\n",
    "\n",
    "dict1= {\"k1\": 1, 'k2': 2, 'k3': 2, 'k4': 3}\n",
    "\n",
    "uniq(dict1)"
   ]
  },
  {
   "cell_type": "markdown",
   "metadata": {},
   "source": [
    "## 2. Write a Python program to find the sum of all items in a dictionary?"
   ]
  },
  {
   "cell_type": "code",
   "execution_count": 2,
   "metadata": {},
   "outputs": [
    {
     "name": "stdout",
     "output_type": "stream",
     "text": [
      "The sum of all the values of the above dictionary is...\n",
      "55\n"
     ]
    }
   ],
   "source": [
    "dict_sum = lambda dct: sum(dct.values())\n",
    "\n",
    "dict1= {'a':1, 'b':2, 'c':3, 'd':4, 'e':5, 'f':6, 'g':7, 'h':8, 'i':9, 'j': 10}\n",
    "\n",
    "print('The sum of all the values of the above dictionary is...')\n",
    "print(dict_sum(dict1))"
   ]
  },
  {
   "cell_type": "markdown",
   "metadata": {},
   "source": [
    "## 3. Write a Python program to Merging two Dictionaries?"
   ]
  },
  {
   "cell_type": "code",
   "execution_count": 3,
   "metadata": {},
   "outputs": [
    {
     "name": "stdout",
     "output_type": "stream",
     "text": [
      "Merged dictionary: {'k1': 1, 'k2': 2, 'k3': 3, 'k4': 4, 'k5': 5, 'k6': 6, 'k7': 7}\n"
     ]
    }
   ],
   "source": [
    "merge_dict = lambda dict1, dict2: {**dict1, **dict2}\n",
    "\n",
    "dict1= {'k1': 1, 'k2': 2, 'k3': 3, 'k4': 4}\n",
    "dict2= {\"k5\": 5, \"k6\": 6, \"k7\": 7}\n",
    "\n",
    "print(f'Merged dictionary: {merge_dict(dict1, dict2)}')"
   ]
  },
  {
   "cell_type": "markdown",
   "metadata": {},
   "source": [
    "## 4. Write a Python program to convert key-values list to flat dictionary?"
   ]
  },
  {
   "cell_type": "code",
   "execution_count": 4,
   "metadata": {},
   "outputs": [
    {
     "data": {
      "text/plain": [
       "{'chair': '17000', 'table': '25000', 'sofa': '45000', 'TV': '63000'}"
      ]
     },
     "execution_count": 4,
     "metadata": {},
     "output_type": "execute_result"
    }
   ],
   "source": [
    "def flat_dict(dict1):\n",
    "    dict2={}\n",
    "    a, b = dict1.keys()\n",
    "    for i in range(len(dict1[a])):\n",
    "        dict2[dict1[a][i]]=dict1[b][i]\n",
    "    return dict2\n",
    "\n",
    "dct={'products': ['chair', 'table', 'sofa', 'TV'], \"prices\": ['17000', '25000', '45000', '63000'] }\n",
    "flat_dict(dct)"
   ]
  },
  {
   "cell_type": "markdown",
   "metadata": {},
   "source": [
    "## 5. Write a Python program to insertion at the beginning in OrderedDict?"
   ]
  },
  {
   "cell_type": "code",
   "execution_count": 5,
   "metadata": {},
   "outputs": [
    {
     "data": {
      "text/plain": [
       "OrderedDict([('k1', 'B'), ('k2', 'B'), ('a', 1), ('b', 2)])"
      ]
     },
     "execution_count": 5,
     "metadata": {},
     "output_type": "execute_result"
    }
   ],
   "source": [
    "from collections import OrderedDict\n",
    "\n",
    "dict1 = OrderedDict([('a', 1),('b', 2)])\n",
    "dict2= {'k1': 'B', 'k2': 'B'}\n",
    "\n",
    "dict1.update(dict2)\n",
    "temp = list(dict2.keys())\n",
    "temp.reverse()\n",
    "for i in temp:\n",
    "    dict1.move_to_end(i , last=False)\n",
    "dict1\n",
    "\n",
    "#or\n",
    "\n",
    "#insert_first = lambda dict1, dict2: {**dict2, **dict1}\n",
    "\n",
    "#dict1={'k1': 1, 'k2': 2}\n",
    "#dict2 = {'k3':3}\n",
    "\n",
    "#insert_first(dict1, dict2)"
   ]
  },
  {
   "cell_type": "markdown",
   "metadata": {},
   "source": [
    "## 6. Write a Python program to check order of character in string using OrderedDict()?"
   ]
  },
  {
   "cell_type": "code",
   "execution_count": 6,
   "metadata": {},
   "outputs": [
    {
     "name": "stdout",
     "output_type": "stream",
     "text": [
      "Enter the text: Hello how are you?\n",
      "Enter the sequence you want to check: er\n",
      "'er' is in order in the given string\n"
     ]
    }
   ],
   "source": [
    "from collections import OrderedDict\n",
    "def check_order(text, seq):\n",
    "    \n",
    "    dct= OrderedDict.fromkeys(''.join(text.split()))\n",
    "    n=0\n",
    "    \n",
    "    for k in dct.keys():\n",
    "        if k == seq[n]:\n",
    "            n+=1\n",
    "        if len(seq)==n:\n",
    "            print(f'{seq!r} is in order in the given string')\n",
    "            break\n",
    "    else:\n",
    "        print(f'{seq!r} is not in order in the given string')\n",
    "\n",
    "text = input('Enter the text: ')\n",
    "seq = input('Enter the sequence you want to check: ')\n",
    "check_order(text, seq)"
   ]
  },
  {
   "cell_type": "markdown",
   "metadata": {},
   "source": [
    "## 7. Write a Python program to sort Python Dictionaries by Key or Value?"
   ]
  },
  {
   "cell_type": "code",
   "execution_count": 7,
   "metadata": {},
   "outputs": [
    {
     "name": "stdout",
     "output_type": "stream",
     "text": [
      "Dictionary sorted by keys:\n",
      "{'k1': 5, 'k2': 4, 'k3': 3, 'k4': 2, 'k5': 1}\n",
      "\n",
      "\n",
      "\n",
      "Dictionary sorted by values:\n",
      "{'k5': 1, 'k4': 2, 'k3': 3, 'k2': 4, 'k1': 5}\n"
     ]
    }
   ],
   "source": [
    "sorted_k = lambda dct: dict(list(sorted(dct.items())))\n",
    "\n",
    "def sorted_v(dct):\n",
    "    x = [(v, k) for k, v in dct.items()]\n",
    "    y = [(k, v) for v, k in sorted(x)]\n",
    "    return dict(y)\n",
    "    \n",
    "\n",
    "dct= {'k1': 5, 'k3': 3, 'k2': 4,'k5': 1, 'k4': 2}\n",
    "\n",
    "print('Dictionary sorted by keys:')\n",
    "print(sorted_k(dct))\n",
    "print('\\n\\n')\n",
    "print('Dictionary sorted by values:')\n",
    "print(sorted_v(dct))"
   ]
  }
 ],
 "metadata": {
  "kernelspec": {
   "display_name": "Python 3",
   "language": "python",
   "name": "python3"
  },
  "language_info": {
   "codemirror_mode": {
    "name": "ipython",
    "version": 3
   },
   "file_extension": ".py",
   "mimetype": "text/x-python",
   "name": "python",
   "nbconvert_exporter": "python",
   "pygments_lexer": "ipython3",
   "version": "3.8.5"
  }
 },
 "nbformat": 4,
 "nbformat_minor": 4
}
