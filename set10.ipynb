{
 "cells": [
  {
   "cell_type": "markdown",
   "metadata": {},
   "source": [
    "## 1. Write a Python program to find sum of elements in list?"
   ]
  },
  {
   "cell_type": "code",
   "execution_count": 1,
   "metadata": {},
   "outputs": [
    {
     "data": {
      "text/plain": [
       "201"
      ]
     },
     "execution_count": 1,
     "metadata": {},
     "output_type": "execute_result"
    }
   ],
   "source": [
    "add = lambda lst: sum(lst)\n",
    "\n",
    "\n",
    "list1=[2,3,6,5,4,7,89,5,66,14]\n",
    "\n",
    "add(list1)"
   ]
  },
  {
   "cell_type": "markdown",
   "metadata": {},
   "source": [
    "## 2. Write a Python program to  Multiply all numbers in the list?"
   ]
  },
  {
   "cell_type": "code",
   "execution_count": 2,
   "metadata": {},
   "outputs": [
    {
     "data": {
      "text/plain": [
       "362880"
      ]
     },
     "execution_count": 2,
     "metadata": {},
     "output_type": "execute_result"
    }
   ],
   "source": [
    "def prod(lst):\n",
    "    num=1\n",
    "    for i in lst:\n",
    "        num*=i\n",
    "    return num\n",
    "\n",
    "list1=[1,2,3,4,5,6,7,8,9]\n",
    "\n",
    "prod(list1)"
   ]
  },
  {
   "cell_type": "markdown",
   "metadata": {},
   "source": [
    "## 3. Write a Python program to find smallest number in a list?"
   ]
  },
  {
   "cell_type": "code",
   "execution_count": 3,
   "metadata": {},
   "outputs": [
    {
     "data": {
      "text/plain": [
       "2"
      ]
     },
     "execution_count": 3,
     "metadata": {},
     "output_type": "execute_result"
    }
   ],
   "source": [
    "small = lambda lst: min(lst)\n",
    "\n",
    "list1=[89,5,66,14,2,3,6,5,4,7]\n",
    "\n",
    "small(list1)"
   ]
  },
  {
   "cell_type": "markdown",
   "metadata": {},
   "source": [
    "## 4. Write a Python program to find largest number in a list?"
   ]
  },
  {
   "cell_type": "code",
   "execution_count": 4,
   "metadata": {},
   "outputs": [
    {
     "data": {
      "text/plain": [
       "89"
      ]
     },
     "execution_count": 4,
     "metadata": {},
     "output_type": "execute_result"
    }
   ],
   "source": [
    "large = lambda lst: max(lst)\n",
    "\n",
    "list1=[89,5,66,14,2,3,6,5,4,7]\n",
    "\n",
    "large(list1)"
   ]
  },
  {
   "cell_type": "markdown",
   "metadata": {},
   "source": [
    "## 5. Write a Python program to find second largest number in a list?"
   ]
  },
  {
   "cell_type": "code",
   "execution_count": 5,
   "metadata": {},
   "outputs": [
    {
     "data": {
      "text/plain": [
       "66"
      ]
     },
     "execution_count": 5,
     "metadata": {},
     "output_type": "execute_result"
    }
   ],
   "source": [
    "def sec_lar(lst):\n",
    "    lst.sort()\n",
    "    return lst[-2]\n",
    "\n",
    "list1=[89,5,66,14,2,3,6,5,4,7]\n",
    "\n",
    "sec_lar(list1)"
   ]
  },
  {
   "cell_type": "markdown",
   "metadata": {},
   "source": [
    "## 6. Write a Python program to find N largest elements from a list?"
   ]
  },
  {
   "cell_type": "code",
   "execution_count": 6,
   "metadata": {},
   "outputs": [
    {
     "name": "stdout",
     "output_type": "stream",
     "text": [
      "How many largest terms you want to get from list1? (1 to 10): 3\n",
      "89\n",
      "66\n",
      "14\n"
     ]
    }
   ],
   "source": [
    "def nlargest(lst, n):\n",
    "    lst.sort(reverse=True)\n",
    "    return lst[:n]\n",
    "\n",
    "list1=[89,5,66,14,2,3,6,5,4,7]\n",
    "n = int(input(f\"How many largest terms you want to get from list1? (1 to {len(list1)}): \"))\n",
    "for i in nlargest(list1, n):\n",
    "    print(i)"
   ]
  },
  {
   "cell_type": "markdown",
   "metadata": {},
   "source": [
    "## 7. Write a Python program to print even numbers in a list?"
   ]
  },
  {
   "cell_type": "code",
   "execution_count": 7,
   "metadata": {},
   "outputs": [
    {
     "name": "stdout",
     "output_type": "stream",
     "text": [
      "The following are the even numbers in the [1, 2, 3, 4, 5, 6, 7, 8, 9]\n",
      "2\n",
      "4\n",
      "6\n",
      "8\n"
     ]
    }
   ],
   "source": [
    "def print_even(lst):\n",
    "    for i in lst:\n",
    "        if i%2==0:\n",
    "            print(i)\n",
    "\n",
    "list1= [1,2,3,4,5,6,7,8,9]\n",
    "print(f\"The following are the even numbers in the {list1}\")\n",
    "print_even(list1)"
   ]
  },
  {
   "cell_type": "markdown",
   "metadata": {},
   "source": [
    "## 8. Write a Python program to print odd numbers in a List?"
   ]
  },
  {
   "cell_type": "code",
   "execution_count": 8,
   "metadata": {},
   "outputs": [
    {
     "name": "stdout",
     "output_type": "stream",
     "text": [
      "The following are the odd numbers in the [1, 2, 3, 4, 5, 6, 7, 8, 9]\n",
      "1\n",
      "3\n",
      "5\n",
      "7\n",
      "9\n"
     ]
    }
   ],
   "source": [
    "def print_odd(lst):\n",
    "    for i in lst:\n",
    "        if i%2!=0:\n",
    "            print(i)\n",
    "\n",
    "list1= [1,2,3,4,5,6,7,8,9]\n",
    "print(f\"The following are the odd numbers in the {list1}\")\n",
    "print_odd(list1)"
   ]
  },
  {
   "cell_type": "markdown",
   "metadata": {},
   "source": [
    "## 9. Write a Python program to Remove empty List from List?"
   ]
  },
  {
   "cell_type": "code",
   "execution_count": 9,
   "metadata": {},
   "outputs": [
    {
     "name": "stdout",
     "output_type": "stream",
     "text": [
      "The list of after removing the empty lists looks like this: [1, 2, 4, 5, 7, 8]\n"
     ]
    }
   ],
   "source": [
    "def rem_empty(lst):\n",
    "    new_list=[x for x in lst if x !=[]]\n",
    "    print(f\"The list of after removing the empty lists looks like this: {new_list}\")\n",
    "\n",
    "    \n",
    "rem_empty([1,2,[],4,5,[],7,8,[]])"
   ]
  },
  {
   "cell_type": "markdown",
   "metadata": {},
   "source": [
    "## 10. Write a Python program to Cloning or Copying a list?"
   ]
  },
  {
   "cell_type": "code",
   "execution_count": 10,
   "metadata": {},
   "outputs": [
    {
     "name": "stdout",
     "output_type": "stream",
     "text": [
      "Original list: [1, 2, 3, 4, 5, 6, 7, 8, 9]\n",
      "Cloned list: [1, 2, 3, 4, 5, 6, 7, 8, 9]\n"
     ]
    }
   ],
   "source": [
    "clone= lambda lst: [x for x in lst]\n",
    "\n",
    "list1= [1,2,3,4,5,6,7,8,9]\n",
    "list2=clone(list1)\n",
    "print(f\"Original list: {list1}\")\n",
    "print(f\"Cloned list: {list2}\")"
   ]
  },
  {
   "cell_type": "markdown",
   "metadata": {},
   "source": [
    "## 11. Write a Python program to Count occurrences of an element in a list?"
   ]
  },
  {
   "cell_type": "code",
   "execution_count": 11,
   "metadata": {},
   "outputs": [
    {
     "name": "stdout",
     "output_type": "stream",
     "text": [
      "Enter a number in the list1 to count it's occurrences: 3\n",
      "3 occurs 1 times in the list [1, 1, 2, 3, 6, 5, 4, 2, 5, 8, 9, 7, 4]\n"
     ]
    }
   ],
   "source": [
    "def occur_count(lst, n):\n",
    "    print(f\"{n} occurs {lst.count(n)} times in the list {lst}\")\n",
    "\n",
    "list1=[1,1,2,3,6,5,4,2,5,8,9,7,4]\n",
    "n = int(input(\"Enter a number in the list1 to count it's occurrences: \"))\n",
    "occur_count(list1, n)"
   ]
  }
 ],
 "metadata": {
  "kernelspec": {
   "display_name": "Python 3",
   "language": "python",
   "name": "python3"
  },
  "language_info": {
   "codemirror_mode": {
    "name": "ipython",
    "version": 3
   },
   "file_extension": ".py",
   "mimetype": "text/x-python",
   "name": "python",
   "nbconvert_exporter": "python",
   "pygments_lexer": "ipython3",
   "version": "3.8.5"
  }
 },
 "nbformat": 4,
 "nbformat_minor": 4
}
