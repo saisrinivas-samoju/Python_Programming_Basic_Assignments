{
 "cells": [
  {
   "cell_type": "markdown",
   "metadata": {},
   "source": [
    "## 1. List of numbers divisible by 7 between 0 to the given number."
   ]
  },
  {
   "cell_type": "markdown",
   "metadata": {},
   "source": [
    "Question 1:\n",
    "Define a class with a generator which can iterate the numbers, which are divisible by 7, between a given range 0 and n."
   ]
  },
  {
   "cell_type": "code",
   "execution_count": 1,
   "metadata": {},
   "outputs": [],
   "source": [
    "# Since the question is asking to define a class and not a generation FUNCTION. I am using a class here.\n",
    "\n",
    "class Div_Seven:\n",
    "    \n",
    "    def __init__(self, num):\n",
    "        self.num = num\n",
    "        \n",
    "    def check(self):\n",
    "        for i in range(self.num):\n",
    "            if i%7==0:\n",
    "                yield i"
   ]
  },
  {
   "cell_type": "code",
   "execution_count": 2,
   "metadata": {},
   "outputs": [
    {
     "name": "stdout",
     "output_type": "stream",
     "text": [
      "Enter a number: 85\n",
      "0\n",
      "7\n",
      "14\n",
      "21\n",
      "28\n",
      "35\n",
      "42\n",
      "49\n",
      "56\n",
      "63\n",
      "70\n",
      "77\n",
      "84\n"
     ]
    }
   ],
   "source": [
    "#to check the values using the class\n",
    "\n",
    "\n",
    "n = int(input(\"Enter a number: \"))\n",
    "\n",
    "checker=Div_Seven(n)\n",
    "\n",
    "for i in checker.check():\n",
    "    print(i)"
   ]
  },
  {
   "cell_type": "markdown",
   "metadata": {},
   "source": [
    "## 2. Count the frequency of characters in the given string."
   ]
  },
  {
   "cell_type": "markdown",
   "metadata": {},
   "source": [
    "Question 2:\n",
    "Write a program to compute the frequency of the words from the input. The output should output after sorting the key alphanumerically. \n",
    "\n",
    "Suppose the following input is supplied to the program:\n",
    "\n",
    "New to Python or choosing between Python 2 and Python 3? Read Python 2 or Python 3.\n",
    "\n",
    "Then, the output should be:\n",
    "\n",
    "2:2\n",
    "\n",
    "3.:1\n",
    "\n",
    "3?:1\n",
    "\n",
    "New:1\n",
    "\n",
    "Python:5\n",
    "\n",
    "Read:1\n",
    "\n",
    "and:1\n",
    "\n",
    "between:1\n",
    "\n",
    "choosing:1\n",
    "\n",
    "or:2\n",
    "\n",
    "to:1\n"
   ]
  },
  {
   "cell_type": "code",
   "execution_count": 3,
   "metadata": {},
   "outputs": [
    {
     "name": "stdout",
     "output_type": "stream",
     "text": [
      "Enter some text to find the frequency of words: New to Python or choosing between Python 2 and Python 3? Read Python 2 or Python 3.\n",
      "\n",
      "\n",
      "2: 2\n",
      "\n",
      "\n",
      "3.: 1\n",
      "\n",
      "\n",
      "3?: 1\n",
      "\n",
      "\n",
      "New: 1\n",
      "\n",
      "\n",
      "Python: 5\n",
      "\n",
      "\n",
      "Read: 1\n",
      "\n",
      "\n",
      "and: 1\n",
      "\n",
      "\n",
      "between: 1\n",
      "\n",
      "\n",
      "choosing: 1\n",
      "\n",
      "\n",
      "or: 2\n",
      "\n",
      "\n",
      "to: 1\n"
     ]
    }
   ],
   "source": [
    "text = input(\"Enter some text to find the frequency of words: \")\n",
    "unique_words = set()\n",
    "for word in text.split():\n",
    "    unique_words.add(word)\n",
    "\n",
    "freq = {}\n",
    "\n",
    "for word in sorted(unique_words):\n",
    "    freq[word] = text.split().count(word)\n",
    "\n",
    "for k, v in freq.items():\n",
    "    print('\\n')\n",
    "    print(k + ': '+ str(v))"
   ]
  },
  {
   "cell_type": "markdown",
   "metadata": {},
   "source": [
    "## 3. Gender Class"
   ]
  },
  {
   "cell_type": "markdown",
   "metadata": {},
   "source": [
    "Question 3:\n",
    "Define a class Person and its two child classes: Male and Female. All classes have a method \"getGender\" which can print \"Male\" for Male class and \"Female\" for Female class."
   ]
  },
  {
   "cell_type": "code",
   "execution_count": 4,
   "metadata": {},
   "outputs": [
    {
     "name": "stdout",
     "output_type": "stream",
     "text": [
      "Person Created!\n",
      "Female gender assigned!\n",
      "Person Created!\n",
      "Male gender assigned!\n",
      "Female\n",
      "Male\n"
     ]
    }
   ],
   "source": [
    "class Person:\n",
    "    def __init__(self):\n",
    "        print('Person Created!')\n",
    "    \n",
    "    def getGender(self):\n",
    "        print('No gender yet!')\n",
    "        \n",
    "\n",
    "#Now using inheritance, we use the parent class for our new male and female classes\n",
    "\n",
    "class Male(Person):\n",
    "    def __init__(self):\n",
    "        Person.__init__(self)\n",
    "        print('Male gender assigned!')\n",
    "    \n",
    "    def getGender(self):\n",
    "        print('Male')\n",
    "\n",
    "#We see both classes Male and Female have same method names, this is polymorphism\\\n",
    "\n",
    "class Female(Person):\n",
    "    def __init__(self):\n",
    "        Person.__init__(self)\n",
    "        print('Female gender assigned!')\n",
    "    \n",
    "    def getGender(self):\n",
    "        print('Female')\n",
    "\n",
    "\n",
    "#Now let's check the above created classes for the desired results\n",
    "\n",
    "natasha = Female()\n",
    "john = Male()\n",
    "\n",
    "natasha.getGender()\n",
    "john.getGender()"
   ]
  },
  {
   "cell_type": "markdown",
   "metadata": {},
   "source": [
    "## 4. Generate sentences from the elements in list."
   ]
  },
  {
   "cell_type": "markdown",
   "metadata": {},
   "source": [
    "Question 4:\n",
    "Please write a program to generate all sentences where subject is in [\"I\", \"You\"] and verb is in [\"Play\", \"Love\"] and the object is in [\"Hockey\",\"Football\"]."
   ]
  },
  {
   "cell_type": "code",
   "execution_count": 5,
   "metadata": {},
   "outputs": [
    {
     "name": "stdout",
     "output_type": "stream",
     "text": [
      "I Play Hockey\n",
      "I Play Football\n",
      "I Love Hockey\n",
      "I Love Football\n",
      "You Play Hockey\n",
      "You Play Football\n",
      "You Love Hockey\n",
      "You Love Football\n"
     ]
    }
   ],
   "source": [
    "#On a general note, we know that the general form of simple present tense is subject + verb + object. Using that...\n",
    "# Since, we are asked to generate the sentences, we use a generator to create this program\n",
    "\n",
    "sub = [\"I\", \"You\"]\n",
    "ver =  [\"Play\", \"Love\"]\n",
    "obj = [\"Hockey\",\"Football\"]\n",
    "\n",
    "def sentence(subject, verb, objct):\n",
    "    for i in subject:\n",
    "        for j in verb:\n",
    "            for k in objct:\n",
    "                yield i + ' ' + j + ' ' + k\n",
    "\n",
    "for i in sentence(sub, ver, obj):\n",
    "    print(i)"
   ]
  },
  {
   "cell_type": "markdown",
   "metadata": {},
   "source": [
    "## 5. Compress and decompress the string."
   ]
  },
  {
   "cell_type": "markdown",
   "metadata": {},
   "source": [
    "Question 5:\n",
    "Please write a program to compress and decompress the string \"hello world!hello world!hello world!hello world!\"."
   ]
  },
  {
   "cell_type": "code",
   "execution_count": 6,
   "metadata": {},
   "outputs": [],
   "source": [
    "# There are different ways of compressing and decompressing the strings in python\n",
    "# Considering the compression and decompression in terms of alphabets, words and sentences.\n",
    "# Let's proceed to solve it\n",
    "\n",
    "class Comp_Decomp:\n",
    "    def __init__(self, text, div):\n",
    "        \"\"\"\n",
    "        To compress and decompress strings in three different ways\n",
    "        1. compress in terms of alphabets repeatation\n",
    "        2. compress in terms of word repeatation\n",
    "        3. compress in terms of sentences repeation.\n",
    "        \n",
    "        div = sentence separator\n",
    "        \"\"\"\n",
    "        self.text = text\n",
    "        self.div = div\n",
    "    def alpha(self):\n",
    "        res = ''\n",
    "        value = 1\n",
    "        for i in range(len(self.text)-1):\n",
    "\n",
    "            if self.text[i]==self.text[i+1]:\n",
    "                value+=1\n",
    "            else:\n",
    "                res += self.text[i] + str(value)\n",
    "                value = 1\n",
    "        #since, we have taken range from len(text) - 1 in the for loop, the last letter is excluded. We should add it\n",
    "        res+=self.text[i+1] + str(value)\n",
    "\n",
    "        res = ''.join(res.split('1'))\n",
    "        print('Compression and Decompression in terms of ALPHABETS...')\n",
    "        print('\\nCompressed String:\\n\\n',res)\n",
    "\n",
    "        result = ''\n",
    "        for i in range(len(res)):\n",
    "            if res[i].isdigit():\n",
    "                res += res[i-1]*(int(res[i])-1)\n",
    "            else:\n",
    "                result += res[i]\n",
    "        print('\\nDecompressed String:\\n\\n',result)\n",
    "\n",
    "    \n",
    "    def word(self):\n",
    "        res = ''\n",
    "        value = 1\n",
    "        words = self.text.split()\n",
    "        for i in range(len(words)-1):\n",
    "            if words[i]==words[i+1]:\n",
    "                value +=1\n",
    "            else:\n",
    "                res+= words[i] + str(value)\n",
    "                value = 1\n",
    "        res += words[i+1] + str(value)\n",
    "        res = ' '.join(res.split('1'))\n",
    "        print('Compression and Decompression in terms of WORDS...')\n",
    "        print('\\nCompressed String:\\n\\n',res)\n",
    "    \n",
    "        text_words = res.split()\n",
    "\n",
    "        result = dict()\n",
    "\n",
    "        for k, v in dict(enumerate(text_words)).items():\n",
    "            for letter in v:\n",
    "                if letter.isdigit():\n",
    "                    result[k]=v\n",
    "\n",
    "        for k, v in result.items():\n",
    "            for letter in v:\n",
    "                if letter.isdigit():\n",
    "                    text1 = (v[:v.index(letter)] + ' ')*int(letter) + v[v.index(letter)+1:]\n",
    "                    result[k] = text1\n",
    "\n",
    "        for word in text_words:\n",
    "            for k,v in result.items():\n",
    "                text_words.remove(text_words[k])\n",
    "                text_words.insert(k, v)\n",
    "\n",
    "        result = ' '.join(text_words)\n",
    "        print('\\nDecompressed String:\\n\\n',result)\n",
    "    \n",
    "    def sent(self):\n",
    "        res = ''\n",
    "        value = 1\n",
    "        sents = self.text.split(self.div)\n",
    "        if '' in sents:\n",
    "            sents.remove('')\n",
    "\n",
    "        for i in range(len(sents)-1):\n",
    "            if sents[i]==sents[i+1]:\n",
    "                value +=1\n",
    "            else:\n",
    "                res+= sents[i]+ self.div + str(value)\n",
    "                value = 1\n",
    "        res += sents[i+1]+ self.div + str(value)\n",
    "        print('Compression and Decompression in terms ofSENTENCE...')\n",
    "        print('\\nCompressed String:\\n\\n',res)\n",
    "    \n",
    "        text = list(res)\n",
    "        result = ''\n",
    "        temp = ''\n",
    "        for char in text:\n",
    "            if char.isdigit():\n",
    "                n = int(char)\n",
    "                for num in range(text.index(char)):\n",
    "                    temp+=text.pop(0)\n",
    "                text.pop(0)\n",
    "                result += (temp)*n\n",
    "                temp = ''\n",
    "        print('\\nDecompressed String:\\n\\n',result)"
   ]
  },
  {
   "cell_type": "code",
   "execution_count": 7,
   "metadata": {},
   "outputs": [],
   "source": [
    "check= Comp_Decomp('hello world!hello world!hello world!hello world!', '!')"
   ]
  },
  {
   "cell_type": "code",
   "execution_count": 8,
   "metadata": {},
   "outputs": [
    {
     "name": "stdout",
     "output_type": "stream",
     "text": [
      "Compression and Decompression in terms of ALPHABETS...\n",
      "\n",
      "Compressed String:\n",
      "\n",
      " hel2o world!hel2o world!hel2o world!hel2o world!\n",
      "\n",
      "Decompressed String:\n",
      "\n",
      " helo world!helo world!helo world!helo world!\n"
     ]
    }
   ],
   "source": [
    "check.alpha()"
   ]
  },
  {
   "cell_type": "code",
   "execution_count": 9,
   "metadata": {},
   "outputs": [
    {
     "name": "stdout",
     "output_type": "stream",
     "text": [
      "Compression and Decompression in terms of WORDS...\n",
      "\n",
      "Compressed String:\n",
      "\n",
      " hello world!hello3world! \n",
      "\n",
      "Decompressed String:\n",
      "\n",
      " hello world!hello world!hello world!hello world!\n"
     ]
    }
   ],
   "source": [
    "check.word()"
   ]
  },
  {
   "cell_type": "code",
   "execution_count": 10,
   "metadata": {},
   "outputs": [
    {
     "name": "stdout",
     "output_type": "stream",
     "text": [
      "Compression and Decompression in terms ofSENTENCE...\n",
      "\n",
      "Compressed String:\n",
      "\n",
      " hello world!4\n",
      "\n",
      "Decompressed String:\n",
      "\n",
      " hello world!hello world!hello world!hello world!\n"
     ]
    }
   ],
   "source": [
    "check.sent()"
   ]
  },
  {
   "cell_type": "markdown",
   "metadata": {},
   "source": [
    "## 6. Write a binary search function to find the index position."
   ]
  },
  {
   "cell_type": "markdown",
   "metadata": {},
   "source": [
    "Question 6:\n",
    "Please write a binary search function which searches an item in a sorted list. The function should return the index of element to be searched in the list."
   ]
  },
  {
   "cell_type": "code",
   "execution_count": 11,
   "metadata": {},
   "outputs": [
    {
     "name": "stdout",
     "output_type": "stream",
     "text": [
      "Enter a number from the above list to find out it's index value: 65\n",
      "The given list is... [3, 41, 52, 65, 324, 357, 654, 654, 654]\n"
     ]
    },
    {
     "data": {
      "text/plain": [
       "'The first occurence of 65 in the given list is at index position = 3'"
      ]
     },
     "execution_count": 11,
     "metadata": {},
     "output_type": "execute_result"
    }
   ],
   "source": [
    "from bisect import bisect_left\n",
    "\n",
    "\n",
    "def binary_search(lst, num):\n",
    "    n= len(lst)\n",
    "    lst.sort()\n",
    "    res = bisect_left(lst, num)\n",
    "    print(f'The given list is... {lst}')\n",
    "    if res<n and lst[res]==num:\n",
    "        return f\"The first occurence of {num} in the given list is at index position = {res}\"\n",
    "    else:\n",
    "        return f\"Sorry, {num} is not there in the given list {lst}\"\n",
    "\n",
    "    \n",
    "    \n",
    "lst = [41,654,654,654,65,3,324,357,52]\n",
    "\n",
    "num = int(input(\"Enter a number from the above list to find out it's index value: \"))\n",
    "\n",
    "binary_search(lst, num)"
   ]
  }
 ],
 "metadata": {
  "kernelspec": {
   "display_name": "Python 3",
   "language": "python",
   "name": "python3"
  },
  "language_info": {
   "codemirror_mode": {
    "name": "ipython",
    "version": 3
   },
   "file_extension": ".py",
   "mimetype": "text/x-python",
   "name": "python",
   "nbconvert_exporter": "python",
   "pygments_lexer": "ipython3",
   "version": "3.8.5"
  }
 },
 "nbformat": 4,
 "nbformat_minor": 4
}
