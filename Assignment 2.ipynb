{
 "cells": [
  {
   "cell_type": "markdown",
   "metadata": {},
   "source": [
    "## 1. Write a Python program to convert kilometers to miles?"
   ]
  },
  {
   "cell_type": "code",
   "execution_count": 1,
   "metadata": {},
   "outputs": [
    {
     "name": "stdout",
     "output_type": "stream",
     "text": [
      "Enter the number of Kilometers: 5.2\n",
      "5.2 Kilometers is  3.23 miles\n"
     ]
    }
   ],
   "source": [
    "k = float(input('Enter the number of Kilometers: '))\n",
    "m = k*0.621371\n",
    "print(f\"{k} Kilometers is {m:5.2f} miles\")"
   ]
  },
  {
   "cell_type": "markdown",
   "metadata": {},
   "source": [
    "## 2. Write a Python program to convert Celsius to Fahrenheit?"
   ]
  },
  {
   "cell_type": "code",
   "execution_count": 2,
   "metadata": {
    "scrolled": true
   },
   "outputs": [
    {
     "name": "stdout",
     "output_type": "stream",
     "text": [
      "Enter the temperature in Celsius: 36.5\n",
      "\n",
      "36.5° Celsius is 97.7° Fahrenheit\n"
     ]
    }
   ],
   "source": [
    "c = float(input(\"Enter the temperature in Celsius: \"))\n",
    "f = (c*9/5)+32\n",
    "print(f\"\\n{c}° Celsius is {f}° Fahrenheit\")"
   ]
  },
  {
   "cell_type": "markdown",
   "metadata": {},
   "source": [
    "## 3. Write a Python program to display calendar?"
   ]
  },
  {
   "cell_type": "code",
   "execution_count": 3,
   "metadata": {},
   "outputs": [
    {
     "name": "stdout",
     "output_type": "stream",
     "text": [
      "Enter the year number you want to see: 2021\n",
      "Enter the month number (1-12) you want to see: 8\n",
      "\n",
      "\n",
      "    August 2021\n",
      "Mo Tu We Th Fr Sa Su\n",
      "                   1\n",
      " 2  3  4  5  6  7  8\n",
      " 9 10 11 12 13 14 15\n",
      "16 17 18 19 20 21 22\n",
      "23 24 25 26 27 28 29\n",
      "30 31\n",
      "\n"
     ]
    }
   ],
   "source": [
    "import calendar\n",
    "\n",
    "y = int(input('Enter the year number you want to see: '))\n",
    "m = int(input('Enter the month number (1-12) you want to see: '))\n",
    "print('\\n')\n",
    "print(calendar.month(y,m))"
   ]
  },
  {
   "cell_type": "markdown",
   "metadata": {},
   "source": [
    "## 4. Write a Python program to solve quadratic equation?"
   ]
  },
  {
   "cell_type": "code",
   "execution_count": 4,
   "metadata": {},
   "outputs": [
    {
     "name": "stdout",
     "output_type": "stream",
     "text": [
      "General representation of a quadratic equation: ax^2 + bx + c=0\n",
      "Please enter the value of a = 1\n",
      "Please enter the value of b = -5\n",
      "Please enter the value of c = 6\n",
      "The roots of the quadratic equation: x^2 + -5x +6 = 0 are   3.00 and   2.00\n"
     ]
    }
   ],
   "source": [
    "print('General representation of a quadratic equation: ax^2 + bx + c=0')\n",
    "a=int(input('Please enter the value of a = '))\n",
    "b=int(input('Please enter the value of b = '))\n",
    "c=int(input('Please enter the value of c = '))\n",
    "\n",
    "#there are three types of possible solutions for quadratic equations\n",
    "#real and distinct roots\n",
    "#real and equal roots\n",
    "#imaginary roots\n",
    "#to get the imaginary roots we need a library called cmath\n",
    "\n",
    "import cmath\n",
    "\n",
    "x1= (-b+((b**2)-4*a*c)**0.5)/(2*a)\n",
    "x2= (-b-((b**2)-4*a*c)**0.5)/(2*a)\n",
    "\n",
    "if a ==1:\n",
    "    print(f\"The roots of the quadratic equation: x^2 + {b}x +{c} = 0 are {x1:6.2f} and {x2:6.2f}\")\n",
    "else:\n",
    "    print(f\"The roots of the quadratic equation: {a}x^2 + {b}x +{c} = 0 are {x1:6.2f} and {x2:6.2f}\")"
   ]
  },
  {
   "cell_type": "markdown",
   "metadata": {},
   "source": [
    "## 5. Write a Python program to swap two variables without temp variable?"
   ]
  },
  {
   "cell_type": "code",
   "execution_count": 5,
   "metadata": {},
   "outputs": [
    {
     "name": "stdout",
     "output_type": "stream",
     "text": [
      "Enter the value of a: Hello\n",
      "Enter the value of b: 385\n",
      "After swaping the value of a = 385 and b = Hello\n"
     ]
    }
   ],
   "source": [
    "a = input('Enter the value of a: ')\n",
    "b = input('Enter the value of b: ')\n",
    "\n",
    "#code for swaping\n",
    "a, b= b, a\n",
    "\n",
    "print(f'After swaping the value of a = {a} and b = {b}')"
   ]
  }
 ],
 "metadata": {
  "kernelspec": {
   "display_name": "Python 3",
   "language": "python",
   "name": "python3"
  },
  "language_info": {
   "codemirror_mode": {
    "name": "ipython",
    "version": 3
   },
   "file_extension": ".py",
   "mimetype": "text/x-python",
   "name": "python",
   "nbconvert_exporter": "python",
   "pygments_lexer": "ipython3",
   "version": "3.8.5"
  }
 },
 "nbformat": 4,
 "nbformat_minor": 4
}
