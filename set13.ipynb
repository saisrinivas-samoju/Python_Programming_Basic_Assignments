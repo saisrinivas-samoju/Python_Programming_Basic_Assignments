{
 "cells": [
  {
   "cell_type": "markdown",
   "metadata": {},
   "source": [
    "## 1. Calculate sqrt(2xCxD/H) Where C = 50; H = 30; D is a variable."
   ]
  },
  {
   "cell_type": "markdown",
   "metadata": {},
   "source": [
    "Question 1:\n",
    "\n",
    "Write a program that calculates and prints the value according to the given formula:\n",
    "\n",
    "Q = Square root of [(2 * C * D)/H]\n",
    "\n",
    "Following are the fixed values of C and H:\n",
    "\n",
    "C is 50. H is 30.\n",
    "\n",
    "D is the variable whose values should be input to your program in a comma-separated sequence.\n",
    "\n",
    "Example\n",
    "\n",
    "Let us assume the following comma separated input sequence is given to the program:\n",
    "\n",
    "100,150,180\n",
    "\n",
    "The output of the program should be:\n",
    "\n",
    "18,22,24"
   ]
  },
  {
   "cell_type": "code",
   "execution_count": 1,
   "metadata": {},
   "outputs": [
    {
     "name": "stdout",
     "output_type": "stream",
     "text": [
      "Enter values of D in comma-separated sequence: 100,150,180\n",
      "for D = 100, Q =    18\n",
      "for D = 150, Q =    22\n",
      "for D = 180, Q =    24\n"
     ]
    }
   ],
   "source": [
    "C = 50\n",
    "H = 30\n",
    "seq = input('Enter values of D in comma-separated sequence: ').split(',')\n",
    "\n",
    "lst = []\n",
    "output = []\n",
    "\n",
    "for i in seq:\n",
    "    lst.append(int(i))\n",
    "\n",
    "for D in lst:\n",
    "    print(f\"for D = {D}, Q = {(2*C*D/H)**0.5: 5.0f}\")"
   ]
  },
  {
   "cell_type": "markdown",
   "metadata": {},
   "source": [
    "## 2. Enter digits to generate a matrix"
   ]
  },
  {
   "cell_type": "markdown",
   "metadata": {},
   "source": [
    "Question 2:\n",
    "Write a program which takes 2 digits, X,Y as input and generates a 2-dimensional array. The element value in the i-th row and j-th column of the array should be i*j.\n",
    "\n",
    "Note: i=0,1.., X-1; j=0,1,¡¬Y-1.\n",
    "\n",
    "Example\n",
    "\n",
    "Suppose the following inputs are given to the program:\n",
    "\n",
    "3,5\n",
    "\n",
    "Then, the output of the program should be:\n",
    "\n",
    "[[0, 0, 0, 0, 0], [0, 1, 2, 3, 4], [0, 2, 4, 6, 8]] "
   ]
  },
  {
   "cell_type": "code",
   "execution_count": 2,
   "metadata": {},
   "outputs": [
    {
     "name": "stdout",
     "output_type": "stream",
     "text": [
      "Enter the first digit: 3\n",
      "Enter the second digit: 5\n"
     ]
    },
    {
     "data": {
      "text/plain": [
       "[[0, 0, 0, 0, 0], [0, 1, 2, 3, 4], [0, 2, 4, 6, 8]]"
      ]
     },
     "execution_count": 2,
     "metadata": {},
     "output_type": "execute_result"
    }
   ],
   "source": [
    "X = int(input(\"Enter the first digit: \"))\n",
    "Y = int(input(\"Enter the second digit: \"))\n",
    "\n",
    "output= [[i*j for j in range(Y)] for i in range(X)]\n",
    "output"
   ]
  },
  {
   "cell_type": "markdown",
   "metadata": {},
   "source": [
    "## 3. Comma separated sequence of words to ordered sequence."
   ]
  },
  {
   "cell_type": "markdown",
   "metadata": {},
   "source": [
    "Question 3:\n",
    "Write a program that accepts a comma separated sequence of words as input and prints the words in a comma-separated sequence after sorting them alphabetically.\n",
    "\n",
    "Suppose the following input is supplied to the program:\n",
    "\n",
    "without,hello,bag,world\n",
    "\n",
    "Then, the output should be:\n",
    "\n",
    "bag,hello,without,world"
   ]
  },
  {
   "cell_type": "code",
   "execution_count": 3,
   "metadata": {},
   "outputs": [
    {
     "name": "stdout",
     "output_type": "stream",
     "text": [
      "Enter comma separated sequence of words: without,hello,bag,world\n",
      "\n",
      "The ordered comma separated sequence of words is...\n",
      "bag,hello,without,world\n"
     ]
    }
   ],
   "source": [
    "x = input('Enter comma separated sequence of words: ')\n",
    "y=[]\n",
    "for i in sorted(x.split(',')):\n",
    "    y.append(i)\n",
    "print(\"\\nThe ordered comma separated sequence of words is...\")\n",
    "print(','.join(y))"
   ]
  },
  {
   "cell_type": "markdown",
   "metadata": {},
   "source": [
    "## Enter text to sort the words and remove duplicate words"
   ]
  },
  {
   "cell_type": "markdown",
   "metadata": {},
   "source": [
    "Question 4:\n",
    "Write a program that accepts a sequence of whitespace separated words as input and prints the words after removing all duplicate words and sorting them alphanumerically.\n",
    "\n",
    "Suppose the following input is supplied to the program:\n",
    "\n",
    "hello world and practice makes perfect and hello world again\n",
    "\n",
    "Then, the output should be:\n",
    "\n",
    "again and hello makes perfect practice world"
   ]
  },
  {
   "cell_type": "code",
   "execution_count": 4,
   "metadata": {},
   "outputs": [
    {
     "name": "stdout",
     "output_type": "stream",
     "text": [
      "Enter text to sort the words and remove duplicate words: hello world and practice makes perfect and hello world again\n",
      "\n",
      "\n",
      "again and hello makes perfect practice world\n"
     ]
    },
    {
     "data": {
      "text/plain": [
       "'again and hello makes perfect practice world'"
      ]
     },
     "execution_count": 4,
     "metadata": {},
     "output_type": "execute_result"
    }
   ],
   "source": [
    "text = input(\"Enter text to sort the words and remove duplicate words: \")\n",
    "print('\\n')\n",
    "print(' '.join(sorted(set(text.split()))))\n",
    "' '.join(sorted(set(text.split())))"
   ]
  },
  {
   "cell_type": "markdown",
   "metadata": {},
   "source": [
    "## Enter text to know no. of digits and letters in it."
   ]
  },
  {
   "cell_type": "markdown",
   "metadata": {},
   "source": [
    "Question 5:\n",
    "Write a program that accepts a sentence and calculate the number of letters and digits.\n",
    "\n",
    "Suppose the following input is supplied to the program:\n",
    "\n",
    "hello world! 123\n",
    "\n",
    "Then, the output should be:\n",
    "\n",
    "LETTERS 10\n",
    "\n",
    "DIGITS 3"
   ]
  },
  {
   "cell_type": "code",
   "execution_count": 5,
   "metadata": {},
   "outputs": [
    {
     "name": "stdout",
     "output_type": "stream",
     "text": [
      "Enter your alphanumeric text to calculate the number of digits and letters in it: hello world! 123\n",
      "\n",
      "Letters: 10\n",
      "Digits: 3\n"
     ]
    }
   ],
   "source": [
    "text = input('Enter your alphanumeric text to calculate the number of digits and letters in it: ')\n",
    "\n",
    "d=0\n",
    "l=0\n",
    "for i in text:\n",
    "    if i.isdigit():\n",
    "        d+=1\n",
    "    if i.isalpha():\n",
    "        l+=1\n",
    "\n",
    "print(f\"\\nLetters: {l}\\nDigits: {d}\")"
   ]
  },
  {
   "cell_type": "markdown",
   "metadata": {},
   "source": [
    "## Check the validity of passwords"
   ]
  },
  {
   "cell_type": "markdown",
   "metadata": {},
   "source": [
    "A website requires the users to input username and password to register. Write a program to check the validity of password input by users.\n",
    "\n",
    "Following are the criteria for checking the password:\n",
    "\n",
    "1. At least 1 letter between [a-z]\n",
    "\n",
    "2. At least 1 number between [0-9]\n",
    "\n",
    "1. At least 1 letter between [A-Z]\n",
    "\n",
    "3. At least 1 character from [$#@]\n",
    "\n",
    "4. Minimum length of transaction password: 6\n",
    "\n",
    "5. Maximum length of transaction password: 12\n",
    "\n",
    "Your program should accept a sequence of comma separated passwords and will check them according to the above criteria. Passwords that match the criteria are to be printed, each separated by a comma.\n",
    "\n",
    "Example\n",
    "\n",
    "If the following passwords are given as input to the program:\n",
    "\n",
    "ABd1234@1,a F1#,2w3E*,2We3345\n",
    "\n",
    "Then, the output of the program should be:\n",
    "\n",
    "ABd1234@1"
   ]
  },
  {
   "cell_type": "code",
   "execution_count": 6,
   "metadata": {},
   "outputs": [
    {
     "name": "stdout",
     "output_type": "stream",
     "text": [
      "Enter passwords with comma separations: ABd1234@1,a F1#,2w3E*,2We3345\n",
      "\n",
      "The following are the list of valid passwords: \n",
      "ABd1234@1\n"
     ]
    }
   ],
   "source": [
    "import string\n",
    "password= input('Enter passwords with comma separations: ')\n",
    "\n",
    "char = ['$', '#', '@']\n",
    "valid = []\n",
    "for word in password.split(','):\n",
    "    l = 0\n",
    "    u = 0\n",
    "    n = 0\n",
    "    c = 0\n",
    "    x=''\n",
    "    for letter in word:\n",
    "        if letter.islower():\n",
    "            l+=1\n",
    "        if letter.isupper():\n",
    "            u+=1\n",
    "        if letter.isdigit():\n",
    "            n+=1\n",
    "        if letter in ['$', '#', '@']:\n",
    "            c +=1\n",
    "            x+=letter\n",
    "    if 6<=len(word)<=12 and l>0 and u>0 and n>0 and c>0:\n",
    "        valid.append(word)\n",
    "\n",
    "print('\\nThe following are the list of valid passwords: ')\n",
    "for i in valid:\n",
    "    print(i)"
   ]
  }
 ],
 "metadata": {
  "kernelspec": {
   "display_name": "Python 3",
   "language": "python",
   "name": "python3"
  },
  "language_info": {
   "codemirror_mode": {
    "name": "ipython",
    "version": 3
   },
   "file_extension": ".py",
   "mimetype": "text/x-python",
   "name": "python",
   "nbconvert_exporter": "python",
   "pygments_lexer": "ipython3",
   "version": "3.8.5"
  }
 },
 "nbformat": 4,
 "nbformat_minor": 4
}
