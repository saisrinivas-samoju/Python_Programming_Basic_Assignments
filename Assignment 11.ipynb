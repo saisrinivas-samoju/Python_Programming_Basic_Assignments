{
 "cells": [
  {
   "cell_type": "markdown",
   "metadata": {},
   "source": [
    "## 1. Write a Python program to find words which are greater than given length k?"
   ]
  },
  {
   "cell_type": "code",
   "execution_count": 1,
   "metadata": {},
   "outputs": [
    {
     "name": "stdout",
     "output_type": "stream",
     "text": [
      "To find the words with length greater than k, Enter the value of k: 3\n",
      "The following words are with length greater than 3...\n",
      "Hello\n",
      "from\n",
      "India\n",
      "\n",
      "\n",
      "\n",
      "\n",
      "To find the words with length greater than k, Enter the value of k: 3\n",
      "The following words are with length greater than 3...\n",
      "Hello\n",
      "from\n",
      "India\n"
     ]
    }
   ],
   "source": [
    "def long_len(text, k=0):\n",
    "    j=[]\n",
    "    if type(text)==list:\n",
    "        for i in text:\n",
    "            if len(i)>k:\n",
    "                j.append(i)\n",
    "        return j\n",
    "    if type(text)==str:\n",
    "        for i in text.split():\n",
    "            if len(i)>k:\n",
    "                j.append(i)\n",
    "        return j\n",
    "        \n",
    "    else:\n",
    "        print(\"Please input only list of words or strings.\")\n",
    "\n",
    "\n",
    "\n",
    "list1= ['Hello', 'I', 'am', 'from', 'India']\n",
    "string1= 'Hello I am from India'\n",
    "\n",
    "#if text is in list format:\n",
    "k=int(input('To find the words with length greater than k, Enter the value of k: '))\n",
    "print(f'The following words are with length greater than {k}...')\n",
    "for i in long_len(list1, k):\n",
    "    print(i)\n",
    "\n",
    "print(\"\\n\\n\\n\")\n",
    "#if text is in string format:\n",
    "k=int(input('To find the words with length greater than k, Enter the value of k: '))\n",
    "print(f'The following words are with length greater than {k}...')\n",
    "for i in long_len(string1, k):\n",
    "    print(i)"
   ]
  },
  {
   "cell_type": "markdown",
   "metadata": {},
   "source": [
    "## 2. Write a Python program for removing i-th character from a string?"
   ]
  },
  {
   "cell_type": "code",
   "execution_count": 2,
   "metadata": {},
   "outputs": [
    {
     "name": "stdout",
     "output_type": "stream",
     "text": [
      "Enter the text you want: All squares are parallelograms\n",
      "Enter the index position from you want to remove a character: 9\n",
      "The string after removing the character at index position 9...\n",
      "All squars are parallelograms\n"
     ]
    }
   ],
   "source": [
    "remove_char= lambda text, n: text[:n]+text[n+1:]\n",
    "\n",
    "text = input('Enter the text you want: ')\n",
    "n = int(input('Enter the index position from you want to remove a character: '))\n",
    "print(f'The string after removing the character at index position {n}...')\n",
    "print(remove_char(text, n))"
   ]
  },
  {
   "cell_type": "markdown",
   "metadata": {},
   "source": [
    "## 3. Write a Python program to split and join a string?"
   ]
  },
  {
   "cell_type": "code",
   "execution_count": 3,
   "metadata": {},
   "outputs": [
    {
     "name": "stdout",
     "output_type": "stream",
     "text": [
      "Enter some text: Sagrada Familia is still not finished.\n",
      "Text after splitting: ['Sagrada', 'Familia', 'is', 'still', 'not', 'finished.']\n",
      "Text after joining: Sagrada Familia is still not finished.\n"
     ]
    }
   ],
   "source": [
    "text = input('Enter some text: ')\n",
    "print(f'Text after splitting: {text.split()}')\n",
    "print(f\"Text after joining: {' '.join(text.split())}\")"
   ]
  },
  {
   "cell_type": "markdown",
   "metadata": {},
   "source": [
    "## 4. Write a Python program to check if a given string is binary string or not?"
   ]
  },
  {
   "cell_type": "code",
   "execution_count": 4,
   "metadata": {},
   "outputs": [
    {
     "name": "stdout",
     "output_type": "stream",
     "text": [
      "Enter your string to check if it is a binary string or not: 1010101010101020101010\n",
      "The given string is not a binary string\n"
     ]
    }
   ],
   "source": [
    "text= input('Enter your string to check if it is a binary string or not: ')\n",
    "\n",
    "if set(text)=={'0','1'} or set(text)=={'0'} or set(text)=={'1'}:\n",
    "    print('The given string is a binary string')\n",
    "else:\n",
    "    print('The given string is not a binary string')"
   ]
  },
  {
   "cell_type": "markdown",
   "metadata": {},
   "source": [
    "## 5. Write a Python Program to find uncommon words from two Strings?"
   ]
  },
  {
   "cell_type": "code",
   "execution_count": 6,
   "metadata": {},
   "outputs": [
    {
     "name": "stdout",
     "output_type": "stream",
     "text": [
      "Enter some text: I am from New York\n",
      "Enter some other to find the uncommon words: I am from New Delhi\n",
      "Here is the string composed of uncommon words in both the given strings...\n",
      "\n",
      "'York Delhi'\n"
     ]
    }
   ],
   "source": [
    "def uncommon(a, b):\n",
    "    \n",
    "    text=''\n",
    "    for i in a.split():\n",
    "        if i not in b.split():\n",
    "            if len(text)==0:\n",
    "                text+=i\n",
    "            else:\n",
    "                text+=' '+i\n",
    "    for j in b.split():\n",
    "        if j not in a.split():\n",
    "            if len(text)==0:\n",
    "                text+=j\n",
    "            else:\n",
    "                text+=' '+j\n",
    "    return text\n",
    "\n",
    "                \n",
    "a = input('Enter some text: ')\n",
    "b = input('Enter some other to find the uncommon words: ')\n",
    "\n",
    "print('Here is the string composed of uncommon words in both the given strings...')\n",
    "print(f\"\\n{uncommon(a, b)!r}\")"
   ]
  },
  {
   "cell_type": "markdown",
   "metadata": {},
   "source": [
    "## 6. Write a Python Program to find all duplicate characters in string?"
   ]
  },
  {
   "cell_type": "code",
   "execution_count": 7,
   "metadata": {},
   "outputs": [
    {
     "name": "stdout",
     "output_type": "stream",
     "text": [
      "Enter some text to find duplicate characters in it: a quick brown fox jumps over the lazy dog\n"
     ]
    },
    {
     "data": {
      "text/plain": [
       "'e o a u r'"
      ]
     },
     "execution_count": 7,
     "metadata": {},
     "output_type": "execute_result"
    }
   ],
   "source": [
    "def dup(text):\n",
    "    lst=[]\n",
    "    text=''.join(text.split())\n",
    "    for i in list(text):\n",
    "        if list(text).count(i)>1:\n",
    "            lst.append(i.lower())\n",
    "    new_text=' '.join(set(lst))\n",
    "    \n",
    "    return new_text\n",
    "\n",
    "text=input('Enter some text to find duplicate characters in it: ')\n",
    "dup(text)\n",
    "    "
   ]
  },
  {
   "cell_type": "markdown",
   "metadata": {},
   "source": [
    "## 7. Write a Python Program to check if a string contains any special character?"
   ]
  },
  {
   "cell_type": "code",
   "execution_count": 8,
   "metadata": {},
   "outputs": [
    {
     "name": "stdout",
     "output_type": "stream",
     "text": [
      "Enter text to check if it contains any special characters: Hi! How are you doing?\n",
      "The given string contains some special characters\n"
     ]
    }
   ],
   "source": [
    "text = input('Enter text to check if it contains any special characters: ')\n",
    "\n",
    "text=''.join(text.split())\n",
    "if text.isalnum():\n",
    "    print(\"There are no special characters in the given text\")\n",
    "else:\n",
    "    print(\"The given string contains some special characters\")"
   ]
  }
 ],
 "metadata": {
  "kernelspec": {
   "display_name": "Python 3",
   "language": "python",
   "name": "python3"
  },
  "language_info": {
   "codemirror_mode": {
    "name": "ipython",
    "version": 3
   },
   "file_extension": ".py",
   "mimetype": "text/x-python",
   "name": "python",
   "nbconvert_exporter": "python",
   "pygments_lexer": "ipython3",
   "version": "3.8.5"
  }
 },
 "nbformat": 4,
 "nbformat_minor": 4
}
